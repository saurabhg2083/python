{
 "cells": [
  {
   "cell_type": "markdown",
   "id": "d1364f1f",
   "metadata": {},
   "source": [
    "# Python Basic Assignment 3 "
   ]
  },
  {
   "cell_type": "markdown",
   "id": "679a8888",
   "metadata": {},
   "source": [
    "### 1. Why are functions advantageous to have in your programs?\n",
    "\n",
    "\n",
    "With the help of functions, we can avoid rewriting the same logic or code again and again in a program. In a single Program, we can call Python functions anywhere and also call multiple times"
   ]
  },
  {
   "cell_type": "markdown",
   "id": "4e1fd6b1",
   "metadata": {},
   "source": [
    "### 2. When does the code in a function run: when it's specified or when it's called?\n",
    "\n",
    "Code in the function runs when the function is called"
   ]
  },
  {
   "cell_type": "markdown",
   "id": "1f12ad38",
   "metadata": {},
   "source": [
    "### 3. What statement creates a function?\n",
    "\n",
    "The def statement defines (i.e. creates) a function.\n",
    "\n",
    "def my_func():\n",
    "    \n",
    "    pass"
   ]
  },
  {
   "cell_type": "markdown",
   "id": "3cd6de5f",
   "metadata": {},
   "source": [
    "### 4. What is the difference between a function and a function call?\n"
   ]
  },
  {
   "cell_type": "code",
   "execution_count": 15,
   "id": "408f7163",
   "metadata": {},
   "outputs": [],
   "source": [
    "def my_func(): \n",
    "    pass \n",
    "my_func() #calling of function\n",
    "\n",
    "# A function consists of the def statement and the code in its def clause.\n",
    "# A function call is what moves the program execution into the function, and \n",
    "# the function call evaluates to the function's return value."
   ]
  },
  {
   "cell_type": "markdown",
   "id": "5a9aa688",
   "metadata": {},
   "source": [
    "### 5. How many global scopes are there in a Python program? How many local scopes?\n",
    "There's only one global Python scope per program execution. This scope remains in existence until the program terminates , and a local scope is created whenever a function is called."
   ]
  },
  {
   "cell_type": "markdown",
   "id": "c4d2ae8c",
   "metadata": {},
   "source": [
    "### 6. What happens to variables in a local scope when the function call returns?\n",
    "\n",
    "When a function returns, the local scope is destroyed."
   ]
  },
  {
   "cell_type": "markdown",
   "id": "324fe25f",
   "metadata": {},
   "source": [
    "### 7. What is the concept of a return value? Is it possible to have a return value in an expression?\n",
    "\n",
    "A return value is the value that a function call evaluates to. Like any value, a return value can be used as part of an expression.\n"
   ]
  },
  {
   "cell_type": "markdown",
   "id": "3fa13085",
   "metadata": {},
   "source": [
    "### 8. If a function does not have a return statement, what is the return value of a call to that function?\n",
    "\n",
    " If the funtion does not have a return statement it will not return anything."
   ]
  },
  {
   "cell_type": "markdown",
   "id": "226422d1",
   "metadata": {},
   "source": [
    "### 9. How do you make a function variable refer to the global variable?\n",
    "\n",
    "To make function variable as a global variable you can use the global keyword to declare which variables are global. \n"
   ]
  },
  {
   "cell_type": "markdown",
   "id": "eed337e0",
   "metadata": {},
   "source": [
    "### 10. What is the data type of None?\n",
    "\n",
    "The data type of None is NoneType."
   ]
  },
  {
   "cell_type": "markdown",
   "id": "8941ff86",
   "metadata": {},
   "source": [
    "### 11. What does the sentence import areallyourpetsnamederic do?\n",
    "\n",
    "\n",
    "That import statement imports a module named areallyourpetsnamederic. \n",
    "You have to create this module as python does not have this module"
   ]
  },
  {
   "cell_type": "markdown",
   "id": "5ea129bc",
   "metadata": {},
   "source": [
    "### 12. If you had a bacon() feature in a spam module, what would you call it after importing spam?\n",
    "\n",
    "\n",
    "import spam\n",
    "\n",
    "spam.bacon()"
   ]
  },
  {
   "cell_type": "markdown",
   "id": "738faeb8",
   "metadata": {},
   "source": [
    "### 13. What can you do to save a programme from crashing if it encounters an error?\n",
    "\n",
    "We can use try except clause to save a program from crashing.\n"
   ]
  },
  {
   "cell_type": "markdown",
   "id": "d4425f9a",
   "metadata": {},
   "source": [
    "### 14. What is the purpose of the try clause? What is the purpose of the except clause?"
   ]
  },
  {
   "cell_type": "markdown",
   "id": "9c683ec0",
   "metadata": {},
   "source": [
    "Try and Except clause is used to handle the errors within our code . The try block is used to check some code for errors i.e the code inside the try block will execute when there is no error in the program. Whereas the code inside the except block will execute whenever the program encounters some error in the try block.\n",
    "\n",
    "try:\n",
    "    # Code\n",
    "except:\n",
    "    # Executed if error in the try block\n"
   ]
  },
  {
   "cell_type": "code",
   "execution_count": null,
   "id": "71c4fae2",
   "metadata": {},
   "outputs": [],
   "source": []
  }
 ],
 "metadata": {
  "kernelspec": {
   "display_name": "Python 3 (ipykernel)",
   "language": "python",
   "name": "python3"
  },
  "language_info": {
   "codemirror_mode": {
    "name": "ipython",
    "version": 3
   },
   "file_extension": ".py",
   "mimetype": "text/x-python",
   "name": "python",
   "nbconvert_exporter": "python",
   "pygments_lexer": "ipython3",
   "version": "3.9.7"
  }
 },
 "nbformat": 4,
 "nbformat_minor": 5
}
