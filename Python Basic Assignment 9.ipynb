{
 "cells": [
  {
   "cell_type": "markdown",
   "id": "16293e6b",
   "metadata": {},
   "source": [
    "# Python Basic Assignment 9"
   ]
  },
  {
   "cell_type": "markdown",
   "id": "c632ee59",
   "metadata": {},
   "source": [
    "### 1.\tTo what does a relative path refer?\n",
    "\n",
    "\n",
    "A relative path in Python is a path that describes the location of a directory relative to the entry point where you run the Python script."
   ]
  },
  {
   "cell_type": "markdown",
   "id": "efd1b4e8",
   "metadata": {},
   "source": [
    "### 2.\tWhat does an absolute path start with your operating system?\n",
    "\n",
    "What does an absolute path Start with your operating system in Python?\n",
    "An absolute path is a path that contains the entire path to the file or directory that you need to access. This path will begin at the home directory of your computer and will end with the file or directory that you wish to access. Absolute paths ensure that Python can find the exact file on your computer"
   ]
  },
  {
   "cell_type": "markdown",
   "id": "7f913a8b",
   "metadata": {},
   "source": [
    "### 3.\tWhat do the functions os.getcwd() and os.chdir() do?\n",
    "\n",
    "getcwd() : CWD stands for Current Working Directory. This function allows you to see what your current working directory is. \n",
    "\n",
    "chdir(\"path-to-dir\") : Short for CHange DIRectory, this function allows you to set the current working directory to a path of your choice."
   ]
  },
  {
   "cell_type": "code",
   "execution_count": 3,
   "id": "4fe80cfa",
   "metadata": {},
   "outputs": [
    {
     "data": {
      "text/plain": [
       "'D:\\\\python\\\\learning\\\\python'"
      ]
     },
     "execution_count": 3,
     "metadata": {},
     "output_type": "execute_result"
    }
   ],
   "source": [
    "import os\n",
    "os.getcwd()"
   ]
  },
  {
   "cell_type": "code",
   "execution_count": 6,
   "id": "8fb8e28e",
   "metadata": {},
   "outputs": [
    {
     "data": {
      "text/plain": [
       "'D:\\\\python\\\\learning'"
      ]
     },
     "execution_count": 6,
     "metadata": {},
     "output_type": "execute_result"
    }
   ],
   "source": [
    "os.chdir('D:\\\\python\\\\learning')\n",
    "os.getcwd()"
   ]
  },
  {
   "cell_type": "code",
   "execution_count": 7,
   "id": "d60e9de7",
   "metadata": {},
   "outputs": [
    {
     "data": {
      "text/plain": [
       "'D:\\\\python\\\\learning\\\\python'"
      ]
     },
     "execution_count": 7,
     "metadata": {},
     "output_type": "execute_result"
    }
   ],
   "source": [
    "os.chdir('D:\\\\python\\\\learning\\\\python')\n",
    "os.getcwd()"
   ]
  },
  {
   "cell_type": "markdown",
   "id": "d872a17e",
   "metadata": {},
   "source": [
    "### 4.\tWhat are the . and .. folders?\n",
    "\n",
    "A directory or folder is a collection of files and subdirectories. Python has the os module that provides us with many useful methods to work with directories (and files as well).\n",
    "\n",
    "'.' represents the current directory. While '..' represents the parent directory."
   ]
  },
  {
   "cell_type": "code",
   "execution_count": 20,
   "id": "c3194b16",
   "metadata": {},
   "outputs": [
    {
     "data": {
      "text/plain": [
       "['.ipynb_checkpoints',\n",
       " 'assignment',\n",
       " 'part 1 solutions.ipynb',\n",
       " 'part 2 solutions.ipynb',\n",
       " 'Python Basic Assignment 1.ipynb',\n",
       " 'Python Basic Assignment 2.ipynb',\n",
       " 'Python Basic Assignment 3.ipynb',\n",
       " 'Python Basic Assignment 4.ipynb',\n",
       " 'Python Basic Assignment 5.ipynb',\n",
       " 'Python Basic Assignment 6.ipynb',\n",
       " 'Python Basic Assignment 7.ipynb',\n",
       " 'Python Basic Assignment 8.ipynb',\n",
       " 'Python Basic Assignment 9.ipynb',\n",
       " 'questions.ipynb',\n",
       " 'task questions part 2.ipynb',\n",
       " 'txt',\n",
       " 'Untitled.ipynb',\n",
       " 'Untitled1.ipynb']"
      ]
     },
     "execution_count": 20,
     "metadata": {},
     "output_type": "execute_result"
    }
   ],
   "source": [
    "os.chdir('.')\n",
    "os.listdir()"
   ]
  },
  {
   "cell_type": "code",
   "execution_count": 21,
   "id": "420c85f8",
   "metadata": {},
   "outputs": [
    {
     "data": {
      "text/plain": [
       "['.ipynb_checkpoints',\n",
       " 'assignment',\n",
       " 'part 1 solutions.ipynb',\n",
       " 'part 2 solutions.ipynb',\n",
       " 'Python Basic Assignment 1.ipynb',\n",
       " 'Python Basic Assignment 2.ipynb',\n",
       " 'Python Basic Assignment 3.ipynb',\n",
       " 'Python Basic Assignment 4.ipynb',\n",
       " 'Python Basic Assignment 5.ipynb',\n",
       " 'Python Basic Assignment 6.ipynb',\n",
       " 'Python Basic Assignment 7.ipynb',\n",
       " 'Python Basic Assignment 8.ipynb',\n",
       " 'Python Basic Assignment 9.ipynb',\n",
       " 'questions.ipynb',\n",
       " 'task questions part 2.ipynb',\n",
       " 'txt',\n",
       " 'Untitled.ipynb',\n",
       " 'Untitled1.ipynb']"
      ]
     },
     "execution_count": 21,
     "metadata": {},
     "output_type": "execute_result"
    }
   ],
   "source": [
    "os.chdir('D:\\\\python\\\\learning\\\\python')\n",
    "#os.getcwd()\n",
    "\n",
    "os.chdir('.\\\\.')\n",
    "os.listdir()"
   ]
  },
  {
   "cell_type": "markdown",
   "id": "f1dcad9c",
   "metadata": {},
   "source": [
    "### 5.\tIn C:\\bacon\\eggs\\spam.txt, which part is the dir name, and which part is the base name?\n",
    "\n",
    "C:\\bacon\\eggs is the dir name, \n",
    "\n",
    "while spam.txt is the base name.\n"
   ]
  },
  {
   "cell_type": "markdown",
   "id": "c911e4b4",
   "metadata": {},
   "source": [
    "### 6.\tWhat are the three “mode” arguments that can be passed to the open() function?\n",
    "\n",
    "The string 'r' for read mode, 'w' for write mode, and 'a' for append mode"
   ]
  },
  {
   "cell_type": "markdown",
   "id": "063dfaa7",
   "metadata": {},
   "source": [
    "### 7.\tWhat happens if an existing file is opened in write mode?\n",
    "\n",
    "An existing file opened in write mode is erased and completely overwritten."
   ]
  },
  {
   "cell_type": "markdown",
   "id": "056ca535",
   "metadata": {},
   "source": [
    "### 8.\tHow do you tell the difference between read() and readlines()?\n",
    "\n",
    "The read() method returns the file’s entire contents as a single string value. The readlines() method returns a list of strings, where each string is a line from the file’s contents."
   ]
  },
  {
   "cell_type": "markdown",
   "id": "d8609b5e",
   "metadata": {},
   "source": [
    "### 9.\tWhat data structure does a shelf value resemble?\n",
    "\n",
    "A shelf value resembles a dictionary value; it has keys and values, along with keys() and values() methods that work similarly to the dictionary methods of the same names."
   ]
  },
  {
   "cell_type": "code",
   "execution_count": null,
   "id": "4180c7a3",
   "metadata": {},
   "outputs": [],
   "source": []
  }
 ],
 "metadata": {
  "kernelspec": {
   "display_name": "Python 3 (ipykernel)",
   "language": "python",
   "name": "python3"
  },
  "language_info": {
   "codemirror_mode": {
    "name": "ipython",
    "version": 3
   },
   "file_extension": ".py",
   "mimetype": "text/x-python",
   "name": "python",
   "nbconvert_exporter": "python",
   "pygments_lexer": "ipython3",
   "version": "3.9.7"
  }
 },
 "nbformat": 4,
 "nbformat_minor": 5
}
