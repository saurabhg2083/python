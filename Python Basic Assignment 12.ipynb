{
 "cells": [
  {
   "cell_type": "markdown",
   "id": "7ccffd36",
   "metadata": {},
   "source": [
    "# Python Basic Assignment 12"
   ]
  },
  {
   "cell_type": "markdown",
   "id": "c6e9ff54",
   "metadata": {},
   "source": [
    "### 1.\tIn what modes should the PdfFileReader() and PdfFileWriter() File objects will be opened?\n",
    "\n",
    "\n",
    "These files will be opened in binary mode., read binary (rb) for PdfFileREader() and write binary (wb) PdfFileWriter()"
   ]
  },
  {
   "cell_type": "code",
   "execution_count": 1,
   "id": "bba429e9",
   "metadata": {},
   "outputs": [
    {
     "name": "stdout",
     "output_type": "stream",
     "text": [
      "Collecting PyPDF2\n",
      "  Downloading pypdf2-2.11.2-py3-none-any.whl (220 kB)\n",
      "     ------------------------------------ 220.6/220.6 kB 106.0 kB/s eta 0:00:00\n",
      "Requirement already satisfied: typing_extensions>=3.10.0.0 in c:\\users\\lenovo\\anaconda3\\lib\\site-packages (from PyPDF2) (3.10.0.2)\n",
      "Installing collected packages: PyPDF2\n",
      "Successfully installed PyPDF2-2.11.2\n"
     ]
    },
    {
     "name": "stderr",
     "output_type": "stream",
     "text": [
      "\n",
      "[notice] A new release of pip available: 22.2.2 -> 22.3.1\n",
      "[notice] To update, run: python.exe -m pip install --upgrade pip\n"
     ]
    }
   ],
   "source": [
    "!pip install PyPDF2"
   ]
  },
  {
   "cell_type": "markdown",
   "id": "34c41537",
   "metadata": {},
   "source": [
    "### 2.\tFrom a PdfFileReader object, how do you get a Page object for page 5?\n",
    "\n",
    "Calling getPage(4) will return a Page object for page 5 since page 0 is the first page"
   ]
  },
  {
   "cell_type": "code",
   "execution_count": 2,
   "id": "b76b5411",
   "metadata": {},
   "outputs": [
    {
     "data": {
      "text/plain": [
       "' 2, 4, 5                                                                     Eg :  \\n                                                                              Height – 172.5, 163.9, \\n162.8  \\n  Variable Measurement Scale  \\nThere are 4 types of measured variables  \\n1. Nominal   : Categorical data  \\n2. Ordinal  : Order of the data matters but value doesn’t.  \\n3. Interval  : Order matters, value also matters but natural zero is not \\npresent.  \\n4. Ratio  : Something measured on a ratio scale, has same properties as \\ninterval scale but                                 with absolute zero point.   \\nEg : \\n             Students  (Marks)                    Rank  \\n                   100                                    1 \\n                    96                                     2                      Ordinal Data  \\n                    57                                     3                               \\n                    85                                     4 \\n                    44                                     5  \\nEg : \\n      Temperatures  \\n         Farehheits                                                                    Interval  \\n         70 – 80              80 – 90                     90 – 100        0            \\n                                                      Zero doesn’t make any useful meaning  \\n \\n '"
      ]
     },
     "execution_count": 2,
     "metadata": {},
     "output_type": "execute_result"
    }
   ],
   "source": [
    "import PyPDF2 as pdf\n",
    "pdfFileObj = open(\"StatisticsGuide.pdf\",'rb')\n",
    "pdfReader = pdf.PdfFileReader(pdfFileObj)\n",
    "pageObj = pdfReader.getPage(4)\n",
    "pageObj.extractText()"
   ]
  },
  {
   "cell_type": "markdown",
   "id": "b79c7c4a",
   "metadata": {},
   "source": [
    "\n",
    "### 3.\tWhat PdfFileReader variable stores the number of pages in the PDF document?"
   ]
  },
  {
   "cell_type": "code",
   "execution_count": 3,
   "id": "9bb382b5",
   "metadata": {},
   "outputs": [
    {
     "data": {
      "text/plain": [
       "20"
      ]
     },
     "execution_count": 3,
     "metadata": {},
     "output_type": "execute_result"
    }
   ],
   "source": [
    "import PyPDF2 as pdf\n",
    "pdfFileObj = open(\"StatisticsGuide.pdf\",'rb')\n",
    "pdfReader = pdf.PdfFileReader(pdfFileObj)\n",
    "pdfReader.numPages"
   ]
  },
  {
   "cell_type": "markdown",
   "id": "6ddf7a0b",
   "metadata": {},
   "source": [
    "\n",
    "\n",
    "### 4.\tIf a PdfFileReader object’s PDF is encrypted with the password swordfish, what must you do before you can obtain Page objects from it?\n",
    "\n",
    "\n",
    "Before we obtain the page object, the pdf has to be decrypted by calling .decrypt('swordfish')"
   ]
  },
  {
   "cell_type": "markdown",
   "id": "e90faa92",
   "metadata": {},
   "source": [
    "\n",
    "### 5.\tWhat methods do you use to rotate a page?\n",
    "\n",
    "\n",
    "pageObj.rotateClockwise(180)\n",
    "\n",
    "The rotateClockwise() and rotateCounterClockwise() methods. The degrees to rotate is passed as an integer argument"
   ]
  },
  {
   "cell_type": "markdown",
   "id": "ab9bfd50",
   "metadata": {},
   "source": [
    "### 6.\tWhat is the difference between a Run object and a Paragraph object?\n",
    "\n",
    "A document contains multiple paragraphs. A paragraph begins on a new line and contains multiple runs. Runs are contiguous groups of characters within a paragraph.\n",
    "\n",
    "\n",
    "Paragraph Object : A document contains multiple paragraphs. A paragraph begins on a new line and contains multiple runs. The Document object contains a list of Paragraph objects for the paragraphs in the document. (A new paragraph begins whenever the user presses ENTER or RETURN while typing in a Word document.)\n",
    "    \n",
    "\n",
    "Run Objects : Runs are contiguous groups of characters within a paragraph with the same style\n"
   ]
  },
  {
   "cell_type": "markdown",
   "id": "c138884e",
   "metadata": {},
   "source": [
    "### 7.\tHow do you obtain a list of Paragraph objects for a Document object that’s stored in a variable named doc?\n",
    "\n",
    "Use doc.paragraphs."
   ]
  },
  {
   "cell_type": "code",
   "execution_count": 6,
   "id": "cd172de1",
   "metadata": {},
   "outputs": [
    {
     "name": "stdout",
     "output_type": "stream",
     "text": [
      "Collecting python-docx\n",
      "  Downloading python-docx-0.8.11.tar.gz (5.6 MB)\n",
      "     ---------------------------------------- 5.6/5.6 MB 932.5 kB/s eta 0:00:00\n",
      "  Preparing metadata (setup.py): started\n",
      "  Preparing metadata (setup.py): finished with status 'done'\n",
      "Requirement already satisfied: lxml>=2.3.2 in c:\\users\\lenovo\\anaconda3\\lib\\site-packages (from python-docx) (4.6.3)\n",
      "Building wheels for collected packages: python-docx\n",
      "  Building wheel for python-docx (setup.py): started\n",
      "  Building wheel for python-docx (setup.py): finished with status 'done'\n",
      "  Created wheel for python-docx: filename=python_docx-0.8.11-py3-none-any.whl size=184508 sha256=5abea7fcd6f91a95c728831d0439e279416008ec9577aaa1dae3a8341ae5b7d8\n",
      "  Stored in directory: c:\\users\\lenovo\\appdata\\local\\pip\\cache\\wheels\\83\\8b\\7c\\09ae60c42c7ba4ed2dddaf2b8b9186cb105255856d6ed3dba5\n",
      "Successfully built python-docx\n",
      "Installing collected packages: python-docx\n",
      "Successfully installed python-docx-0.8.11\n"
     ]
    },
    {
     "name": "stderr",
     "output_type": "stream",
     "text": [
      "\n",
      "[notice] A new release of pip available: 22.2.2 -> 22.3.1\n",
      "[notice] To update, run: python.exe -m pip install --upgrade pip\n"
     ]
    }
   ],
   "source": [
    "!pip install python-docx"
   ]
  },
  {
   "cell_type": "code",
   "execution_count": 8,
   "id": "f8a057d9",
   "metadata": {},
   "outputs": [
    {
     "data": {
      "text/plain": [
       "[<docx.text.paragraph.Paragraph at 0x25140675310>,\n",
       " <docx.text.paragraph.Paragraph at 0x25140675370>,\n",
       " <docx.text.paragraph.Paragraph at 0x25140daf400>,\n",
       " <docx.text.paragraph.Paragraph at 0x25140daf490>,\n",
       " <docx.text.paragraph.Paragraph at 0x25140daf460>,\n",
       " <docx.text.paragraph.Paragraph at 0x25140daf520>,\n",
       " <docx.text.paragraph.Paragraph at 0x25140daf2b0>,\n",
       " <docx.text.paragraph.Paragraph at 0x25140daf160>,\n",
       " <docx.text.paragraph.Paragraph at 0x25140daf310>,\n",
       " <docx.text.paragraph.Paragraph at 0x25140daf610>,\n",
       " <docx.text.paragraph.Paragraph at 0x25140daf4f0>,\n",
       " <docx.text.paragraph.Paragraph at 0x25140daf6d0>,\n",
       " <docx.text.paragraph.Paragraph at 0x25140daf5b0>,\n",
       " <docx.text.paragraph.Paragraph at 0x25140daf7c0>,\n",
       " <docx.text.paragraph.Paragraph at 0x25140daf670>,\n",
       " <docx.text.paragraph.Paragraph at 0x25140daf850>,\n",
       " <docx.text.paragraph.Paragraph at 0x25140daf730>]"
      ]
     },
     "execution_count": 8,
     "metadata": {},
     "output_type": "execute_result"
    }
   ],
   "source": [
    "import docx\n",
    "doc = docx.Document('saurabh.docx')\n",
    "doc.paragraphs\n"
   ]
  },
  {
   "cell_type": "markdown",
   "id": "187e2442",
   "metadata": {},
   "source": [
    "### 8.\tWhat type of object has bold, underline, italic, strike, and outline variables?\n",
    "\n",
    "A Run object has bold, underline,italic,strike and outline variables"
   ]
  },
  {
   "cell_type": "markdown",
   "id": "5720338b",
   "metadata": {},
   "source": [
    "\n",
    "### 9.\tWhat is the difference between False, True, and None for the bold variable?\n",
    "\n",
    "True always makes the Run object bolded and False makes it always not bolded, no matter what the style’s bold setting is. None will make the Run object just use the style’s bold setting."
   ]
  },
  {
   "cell_type": "markdown",
   "id": "9d77367a",
   "metadata": {},
   "source": [
    "\n",
    "\n",
    "### 10.\tHow do you create a Document object for a new Word document?\n",
    "\n",
    "By Calling the docx.Document() function."
   ]
  },
  {
   "cell_type": "markdown",
   "id": "2d3d48ae",
   "metadata": {},
   "source": [
    "\n",
    "### 11.\tHow do you add a paragraph with the text 'Hello, there!' to a Document object stored in a variable named doc?\n",
    "\n",
    "doc.add_paragraph('Hello there!')"
   ]
  },
  {
   "cell_type": "code",
   "execution_count": 10,
   "id": "b0207b50",
   "metadata": {},
   "outputs": [],
   "source": [
    "import docx\n",
    "doc = docx.Document()\n",
    "\n",
    "doc.add_paragraph('Hello there!')\n",
    "doc.save('hellothere.docx')"
   ]
  },
  {
   "cell_type": "markdown",
   "id": "1551658a",
   "metadata": {},
   "source": [
    "\n",
    "### 12.\tWhat integers represent the levels of headings available in Word documents?\n",
    "\n",
    "The integers 0, 1, 2, 3, and 4\n",
    "\n",
    "The arguments to add_heading() are a string of the heading text and an integer from 0 to 4. The integer 0 makes the heading the Title style, which is used for the top of the document. Integers 1 to 4 are for various heading levels, with 1 being the main heading and 4 the lowest subheading"
   ]
  },
  {
   "cell_type": "code",
   "execution_count": null,
   "id": "7d4a92ee",
   "metadata": {},
   "outputs": [],
   "source": []
  }
 ],
 "metadata": {
  "kernelspec": {
   "display_name": "Python 3 (ipykernel)",
   "language": "python",
   "name": "python3"
  },
  "language_info": {
   "codemirror_mode": {
    "name": "ipython",
    "version": 3
   },
   "file_extension": ".py",
   "mimetype": "text/x-python",
   "name": "python",
   "nbconvert_exporter": "python",
   "pygments_lexer": "ipython3",
   "version": "3.9.7"
  }
 },
 "nbformat": 4,
 "nbformat_minor": 5
}
