{
 "cells": [
  {
   "cell_type": "markdown",
   "id": "e1d9acdc",
   "metadata": {},
   "source": [
    "\n",
    "\n",
    "Task details\n",
    "Write a method named analyse_and_fit_lrm()  which takes one argument \n",
    "(a path to a dataset) and returns a dictionary of length 2 with the\n",
    "following objects (the order and names of the objects should be the same as below):\n",
    "\n",
    "summary_dict  – a dictionary of length 3 with the following elements:\n",
    "    \n",
    "    statistics  – a list of numbers of length 5 with mean, standard deviation, median, minimum and maximum for a variable                     Tax for all houses with two bathrooms and four bedrooms.\n",
    "\n",
    "    data_frame  – a data frame with observations for which Space  is bigger than 800, ordered by decreasing Price\n",
    "    \n",
    "    number_of_observations - a numeric value corresponding to the number of observations for which the value of a                                 variable LOT  is equal to or bigger than the 4th 5-quantile of this variable.\n",
    "\n",
    "\n",
    "regression_dict- a dictionary of length 2 with the following elements:\n",
    "\n",
    "\tmodel_parameters - a dictionary of length 9 with the model parameters. The first key of the dictionary should be named                      Intercept , and all other keys should have the same name as the respective variable.\n",
    "\tprice_prediction -  – a numeric value which corresponds to the prediction of the price (using the applied model) for a                           house with the following specific parameters: three bedrooms; 1500 square feet of space;                                   eight rooms; width of lot is 40; $1000 tax; two bathrooms; one space in the garage; house is in                             bad condition."
   ]
  },
  {
   "cell_type": "code",
   "execution_count": 113,
   "id": "c165ab6f",
   "metadata": {},
   "outputs": [
    {
     "ename": "TypeError",
     "evalue": "'AnalysisDataAndFitLinearRegression' object is not subscriptable",
     "output_type": "error",
     "traceback": [
      "\u001b[1;31m---------------------------------------------------------------------------\u001b[0m",
      "\u001b[1;31mTypeError\u001b[0m                                 Traceback (most recent call last)",
      "\u001b[1;32m~\\AppData\\Local\\Temp/ipykernel_16988/516340784.py\u001b[0m in \u001b[0;36m<module>\u001b[1;34m\u001b[0m\n\u001b[0;32m     84\u001b[0m \u001b[1;33m\u001b[0m\u001b[0m\n\u001b[0;32m     85\u001b[0m \u001b[0mmodel\u001b[0m \u001b[1;33m=\u001b[0m \u001b[0mAnalysisDataAndFitLinearRegression\u001b[0m\u001b[1;33m(\u001b[0m\u001b[1;33m)\u001b[0m\u001b[1;33m\u001b[0m\u001b[1;33m\u001b[0m\u001b[0m\n\u001b[1;32m---> 86\u001b[1;33m \u001b[0mresult\u001b[0m \u001b[1;33m=\u001b[0m \u001b[0mmodel\u001b[0m\u001b[1;33m.\u001b[0m\u001b[0manalyse_and_fit_lrm\u001b[0m\u001b[1;33m(\u001b[0m\u001b[1;34m\"realest.csv\"\u001b[0m\u001b[1;33m)\u001b[0m\u001b[1;33m\u001b[0m\u001b[1;33m\u001b[0m\u001b[0m\n\u001b[0m\u001b[0;32m     87\u001b[0m \u001b[1;33m\u001b[0m\u001b[0m\n\u001b[0;32m     88\u001b[0m \u001b[0mprint\u001b[0m\u001b[1;33m(\u001b[0m\u001b[0mresult\u001b[0m\u001b[1;33m[\u001b[0m\u001b[1;34m'summary_dict'\u001b[0m\u001b[1;33m]\u001b[0m\u001b[1;33m[\u001b[0m\u001b[1;34m'statistics'\u001b[0m\u001b[1;33m]\u001b[0m\u001b[1;33m)\u001b[0m\u001b[1;33m\u001b[0m\u001b[1;33m\u001b[0m\u001b[0m\n",
      "\u001b[1;32m~\\AppData\\Local\\Temp/ipykernel_16988/516340784.py\u001b[0m in \u001b[0;36manalyse_and_fit_lrm\u001b[1;34m(self, path)\u001b[0m\n\u001b[0;32m     51\u001b[0m \u001b[1;33m\u001b[0m\u001b[0m\n\u001b[0;32m     52\u001b[0m         summary_dict = {\n\u001b[1;32m---> 53\u001b[1;33m             \u001b[1;34m'statistics'\u001b[0m\u001b[1;33m:\u001b[0m \u001b[0mself\u001b[0m\u001b[1;33m.\u001b[0m\u001b[0mtax_stats\u001b[0m\u001b[1;33m(\u001b[0m\u001b[0mdata\u001b[0m\u001b[1;33m)\u001b[0m\u001b[1;33m,\u001b[0m\u001b[1;33m\u001b[0m\u001b[1;33m\u001b[0m\u001b[0m\n\u001b[0m\u001b[0;32m     54\u001b[0m             \u001b[1;34m'data_frame'\u001b[0m\u001b[1;33m:\u001b[0m \u001b[0mdata\u001b[0m\u001b[1;33m[\u001b[0m\u001b[0mdata\u001b[0m\u001b[1;33m[\u001b[0m\u001b[1;34m'Space'\u001b[0m\u001b[1;33m]\u001b[0m \u001b[1;33m>\u001b[0m \u001b[1;36m800\u001b[0m\u001b[1;33m]\u001b[0m\u001b[1;33m,\u001b[0m\u001b[1;33m\u001b[0m\u001b[1;33m\u001b[0m\u001b[0m\n\u001b[0;32m     55\u001b[0m             \u001b[1;34m'number_of_observations'\u001b[0m\u001b[1;33m:\u001b[0m \u001b[0mlen\u001b[0m\u001b[1;33m(\u001b[0m\u001b[0mdata\u001b[0m\u001b[1;33m[\u001b[0m\u001b[0mdata\u001b[0m\u001b[1;33m[\u001b[0m\u001b[1;34m'Lot'\u001b[0m\u001b[1;33m]\u001b[0m \u001b[1;33m>=\u001b[0m \u001b[0mdata\u001b[0m\u001b[1;33m[\u001b[0m\u001b[1;34m'Lot'\u001b[0m\u001b[1;33m]\u001b[0m\u001b[1;33m.\u001b[0m\u001b[0mquantile\u001b[0m\u001b[1;33m(\u001b[0m\u001b[1;36m.8\u001b[0m\u001b[1;33m)\u001b[0m\u001b[1;33m]\u001b[0m\u001b[1;33m)\u001b[0m\u001b[1;33m\u001b[0m\u001b[1;33m\u001b[0m\u001b[0m\n",
      "\u001b[1;32m~\\AppData\\Local\\Temp/ipykernel_16988/516340784.py\u001b[0m in \u001b[0;36mtax_stats\u001b[1;34m(df, stats)\u001b[0m\n\u001b[0;32m     34\u001b[0m \u001b[1;33m\u001b[0m\u001b[0m\n\u001b[0;32m     35\u001b[0m     \u001b[1;32mdef\u001b[0m \u001b[0mtax_stats\u001b[0m\u001b[1;33m(\u001b[0m\u001b[0mdf\u001b[0m\u001b[1;33m,\u001b[0m \u001b[0mstats\u001b[0m\u001b[1;33m=\u001b[0m\u001b[1;33m(\u001b[0m\u001b[1;34m'mean'\u001b[0m\u001b[1;33m,\u001b[0m \u001b[1;34m'std'\u001b[0m\u001b[1;33m,\u001b[0m \u001b[1;34m'50%'\u001b[0m\u001b[1;33m,\u001b[0m \u001b[1;34m'min'\u001b[0m\u001b[1;33m,\u001b[0m \u001b[1;34m'max'\u001b[0m\u001b[1;33m)\u001b[0m\u001b[1;33m)\u001b[0m\u001b[1;33m:\u001b[0m\u001b[1;33m\u001b[0m\u001b[1;33m\u001b[0m\u001b[0m\n\u001b[1;32m---> 36\u001b[1;33m         \u001b[0mfiltered\u001b[0m \u001b[1;33m=\u001b[0m \u001b[0mdf\u001b[0m\u001b[1;33m[\u001b[0m\u001b[1;33m(\u001b[0m\u001b[0mdf\u001b[0m\u001b[1;33m[\u001b[0m\u001b[1;34m'Bathroom'\u001b[0m\u001b[1;33m]\u001b[0m \u001b[1;33m==\u001b[0m \u001b[1;36m2\u001b[0m\u001b[1;33m)\u001b[0m \u001b[1;33m&\u001b[0m \u001b[1;33m(\u001b[0m\u001b[0mdf\u001b[0m\u001b[1;33m[\u001b[0m\u001b[1;34m'Bedroom'\u001b[0m\u001b[1;33m]\u001b[0m \u001b[1;33m==\u001b[0m \u001b[1;36m4\u001b[0m\u001b[1;33m)\u001b[0m\u001b[1;33m]\u001b[0m\u001b[1;33m\u001b[0m\u001b[1;33m\u001b[0m\u001b[0m\n\u001b[0m\u001b[0;32m     37\u001b[0m         \u001b[0mdesc\u001b[0m \u001b[1;33m=\u001b[0m \u001b[0mfiltered\u001b[0m\u001b[1;33m[\u001b[0m\u001b[1;34m'Tax'\u001b[0m\u001b[1;33m]\u001b[0m\u001b[1;33m.\u001b[0m\u001b[0mdescribe\u001b[0m\u001b[1;33m(\u001b[0m\u001b[1;33m)\u001b[0m\u001b[1;33m\u001b[0m\u001b[1;33m\u001b[0m\u001b[0m\n\u001b[0;32m     38\u001b[0m         \u001b[1;32mreturn\u001b[0m \u001b[1;33m[\u001b[0m\u001b[0mdesc\u001b[0m\u001b[1;33m[\u001b[0m\u001b[0ms\u001b[0m\u001b[1;33m]\u001b[0m \u001b[1;32mfor\u001b[0m \u001b[0ms\u001b[0m \u001b[1;32min\u001b[0m \u001b[0mstats\u001b[0m\u001b[1;33m]\u001b[0m\u001b[1;33m\u001b[0m\u001b[1;33m\u001b[0m\u001b[0m\n",
      "\u001b[1;31mTypeError\u001b[0m: 'AnalysisDataAndFitLinearRegression' object is not subscriptable"
     ]
    }
   ],
   "source": [
    "import numpy as np\n",
    "import pandas as pd\n",
    "from sklearn.linear_model import LinearRegression\n",
    "from numpy.linalg import inv\n",
    "from numpy import matmul\n",
    "from collections import OrderedDict\n",
    "\n",
    "class AnalysisDataAndFitLinearRegression:\n",
    "\n",
    "    def __init__(self):\n",
    "        self.version = 1\n",
    "\n",
    "\n",
    "    def fit_sklearn(df, target):\n",
    "        X = df.drop(columns=[target])\n",
    "        y = df[target]\n",
    "        reg = LinearRegression(fit_intercept=True).fit(X, y)        \n",
    "        return reg\n",
    "\n",
    "    @staticmethod    \n",
    "    def fit(df, target):\n",
    "        #print(AnalysisDataAndFitLinearRegression.fit_sklearn(df,target))\n",
    "        df = df.assign(Intercept=1)\n",
    "        inputs = df.drop(columns=[target])\n",
    "        keys = inputs.columns.insert(0, 'Intercept')\n",
    "        X = inputs.values\n",
    "        y = df[target]\n",
    "        X_t = X.transpose()\n",
    "        betas = matmul(matmul(inv(matmul(X_t, X)), X_t), y)\n",
    "        betas_keyed = OrderedDict(zip(keys, betas))\n",
    "        # print(f\"\\n Analytical Betas:\\n{betas_keyed}\")\n",
    "        return betas_keyed\n",
    "\n",
    "    @staticmethod\n",
    "    def tax_stats(df, stats=('mean', 'std', '50%', 'min', 'max')):\n",
    "        filtered = df[(df['Bathroom'] == 2) & (df['Bedroom'] == 4)]\n",
    "        desc = filtered['Tax'].describe()\n",
    "        return [desc[s] for s in stats]\n",
    "\n",
    "    @staticmethod\n",
    "    def predict(coefficients: OrderedDict, house: dict):\n",
    "        price = 0\n",
    "        for name, value in house.items():\n",
    "            price = price + (coefficients[name] * value)\n",
    "        return price\n",
    "\n",
    "    def analyse_and_fit_lrm(self, path):\n",
    "        data = pd.read_csv(path)\n",
    "        df = self.__listwise_deletion(data)\n",
    "        coefficients = self.fit(df, 'Price')\n",
    "        summary_dict = {\n",
    "            'statistics': self.tax_stats(data),\n",
    "            'data_frame': data[data['Space'] > 800],\n",
    "            'number_of_observations': len(data[data['Lot'] >= data['Lot'].quantile(.8)])\n",
    "        }\n",
    "\n",
    "        house = {\n",
    "            'Intercept':1,\n",
    "            'Bedroom': 3,\n",
    "            'Space': 1500,\n",
    "            'Room': 8,\n",
    "            'Lot': 40,\n",
    "            'Tax': 1000,\n",
    "            'Bathroom': 2,\n",
    "            'Garage': 1,\n",
    "            'Condition': 0\n",
    "        }\n",
    "\n",
    "        regression_dict = {\n",
    "            'model_parameters': coefficients.values(),\n",
    "            'price_prediction': self.predict(coefficients, house)\n",
    "        }\n",
    "\n",
    "        return {\n",
    "            'summary_dict': summary_dict,\n",
    "            'regression_dict': regression_dict\n",
    "        }\n",
    "\n",
    "    def __listwise_deletion(self, data: pd.DataFrame):\n",
    "        return data.dropna()\n",
    "\n",
    "\n",
    "\n",
    "model = AnalysisDataAndFitLinearRegression()\n",
    "result = model.analyse_and_fit_lrm(\"realest.csv\")\n",
    "\n",
    "print(result['summary_dict']['statistics'])\n",
    "print(result['regression_dict']['price_prediction'])"
   ]
  },
  {
   "cell_type": "code",
   "execution_count": 44,
   "id": "87ea4e3d",
   "metadata": {},
   "outputs": [
    {
     "data": {
      "text/html": [
       "<div>\n",
       "<style scoped>\n",
       "    .dataframe tbody tr th:only-of-type {\n",
       "        vertical-align: middle;\n",
       "    }\n",
       "\n",
       "    .dataframe tbody tr th {\n",
       "        vertical-align: top;\n",
       "    }\n",
       "\n",
       "    .dataframe thead th {\n",
       "        text-align: right;\n",
       "    }\n",
       "</style>\n",
       "<table border=\"1\" class=\"dataframe\">\n",
       "  <thead>\n",
       "    <tr style=\"text-align: right;\">\n",
       "      <th></th>\n",
       "      <th>Price</th>\n",
       "      <th>Bedroom</th>\n",
       "      <th>Space</th>\n",
       "      <th>Room</th>\n",
       "      <th>Lot</th>\n",
       "      <th>Tax</th>\n",
       "      <th>Bathroom</th>\n",
       "      <th>Garage</th>\n",
       "      <th>Condition</th>\n",
       "    </tr>\n",
       "  </thead>\n",
       "  <tbody>\n",
       "    <tr>\n",
       "      <th>0</th>\n",
       "      <td>53.0</td>\n",
       "      <td>2.0</td>\n",
       "      <td>967.0</td>\n",
       "      <td>5.0</td>\n",
       "      <td>39.0</td>\n",
       "      <td>652.0</td>\n",
       "      <td>1.5</td>\n",
       "      <td>0.0</td>\n",
       "      <td>0.0</td>\n",
       "    </tr>\n",
       "    <tr>\n",
       "      <th>1</th>\n",
       "      <td>55.0</td>\n",
       "      <td>2.0</td>\n",
       "      <td>815.0</td>\n",
       "      <td>5.0</td>\n",
       "      <td>33.0</td>\n",
       "      <td>1000.0</td>\n",
       "      <td>1.0</td>\n",
       "      <td>2.0</td>\n",
       "      <td>1.0</td>\n",
       "    </tr>\n",
       "    <tr>\n",
       "      <th>2</th>\n",
       "      <td>56.0</td>\n",
       "      <td>3.0</td>\n",
       "      <td>900.0</td>\n",
       "      <td>5.0</td>\n",
       "      <td>35.0</td>\n",
       "      <td>897.0</td>\n",
       "      <td>1.5</td>\n",
       "      <td>1.0</td>\n",
       "      <td>0.0</td>\n",
       "    </tr>\n",
       "    <tr>\n",
       "      <th>3</th>\n",
       "      <td>58.0</td>\n",
       "      <td>3.0</td>\n",
       "      <td>1007.0</td>\n",
       "      <td>6.0</td>\n",
       "      <td>24.0</td>\n",
       "      <td>964.0</td>\n",
       "      <td>1.5</td>\n",
       "      <td>2.0</td>\n",
       "      <td>0.0</td>\n",
       "    </tr>\n",
       "    <tr>\n",
       "      <th>4</th>\n",
       "      <td>64.0</td>\n",
       "      <td>3.0</td>\n",
       "      <td>1100.0</td>\n",
       "      <td>7.0</td>\n",
       "      <td>50.0</td>\n",
       "      <td>1099.0</td>\n",
       "      <td>1.5</td>\n",
       "      <td>1.5</td>\n",
       "      <td>0.0</td>\n",
       "    </tr>\n",
       "  </tbody>\n",
       "</table>\n",
       "</div>"
      ],
      "text/plain": [
       "   Price  Bedroom   Space  Room   Lot     Tax  Bathroom  Garage  Condition\n",
       "0   53.0      2.0   967.0   5.0  39.0   652.0       1.5     0.0        0.0\n",
       "1   55.0      2.0   815.0   5.0  33.0  1000.0       1.0     2.0        1.0\n",
       "2   56.0      3.0   900.0   5.0  35.0   897.0       1.5     1.0        0.0\n",
       "3   58.0      3.0  1007.0   6.0  24.0   964.0       1.5     2.0        0.0\n",
       "4   64.0      3.0  1100.0   7.0  50.0  1099.0       1.5     1.5        0.0"
      ]
     },
     "execution_count": 44,
     "metadata": {},
     "output_type": "execute_result"
    }
   ],
   "source": [
    "import numpy as np\n",
    "import pandas as pd\n",
    "\n",
    "df = pd.read_csv(\"realest.csv\")\n",
    "df.head()"
   ]
  },
  {
   "cell_type": "markdown",
   "id": "64f29af6",
   "metadata": {},
   "source": [
    "df1"
   ]
  },
  {
   "cell_type": "code",
   "execution_count": 45,
   "id": "393e8f1c",
   "metadata": {},
   "outputs": [
    {
     "data": {
      "text/plain": [
       "Price         1\n",
       "Bedroom       1\n",
       "Space        11\n",
       "Room          1\n",
       "Lot          11\n",
       "Tax          10\n",
       "Bathroom      1\n",
       "Garage        1\n",
       "Condition     1\n",
       "dtype: int64"
      ]
     },
     "execution_count": 45,
     "metadata": {},
     "output_type": "execute_result"
    }
   ],
   "source": [
    "df.isnull().sum()"
   ]
  },
  {
   "cell_type": "code",
   "execution_count": 97,
   "id": "b308b366",
   "metadata": {},
   "outputs": [
    {
     "data": {
      "text/html": [
       "<div>\n",
       "<style scoped>\n",
       "    .dataframe tbody tr th:only-of-type {\n",
       "        vertical-align: middle;\n",
       "    }\n",
       "\n",
       "    .dataframe tbody tr th {\n",
       "        vertical-align: top;\n",
       "    }\n",
       "\n",
       "    .dataframe thead th {\n",
       "        text-align: right;\n",
       "    }\n",
       "</style>\n",
       "<table border=\"1\" class=\"dataframe\">\n",
       "  <thead>\n",
       "    <tr style=\"text-align: right;\">\n",
       "      <th></th>\n",
       "      <th>Price</th>\n",
       "      <th>Bedroom</th>\n",
       "      <th>Space</th>\n",
       "      <th>Room</th>\n",
       "      <th>Lot</th>\n",
       "      <th>Tax</th>\n",
       "      <th>Bathroom</th>\n",
       "      <th>Garage</th>\n",
       "      <th>Condition</th>\n",
       "    </tr>\n",
       "  </thead>\n",
       "  <tbody>\n",
       "    <tr>\n",
       "      <th>count</th>\n",
       "      <td>128.000000</td>\n",
       "      <td>128.000000</td>\n",
       "      <td>128.000000</td>\n",
       "      <td>128.000000</td>\n",
       "      <td>128.000000</td>\n",
       "      <td>128.000000</td>\n",
       "      <td>128.000000</td>\n",
       "      <td>128.000000</td>\n",
       "      <td>128.000000</td>\n",
       "    </tr>\n",
       "    <tr>\n",
       "      <th>mean</th>\n",
       "      <td>56.718750</td>\n",
       "      <td>3.195312</td>\n",
       "      <td>1109.382812</td>\n",
       "      <td>6.531250</td>\n",
       "      <td>32.664062</td>\n",
       "      <td>925.476562</td>\n",
       "      <td>1.488281</td>\n",
       "      <td>0.812500</td>\n",
       "      <td>0.226562</td>\n",
       "    </tr>\n",
       "    <tr>\n",
       "      <th>std</th>\n",
       "      <td>13.348708</td>\n",
       "      <td>1.392096</td>\n",
       "      <td>480.844011</td>\n",
       "      <td>1.724933</td>\n",
       "      <td>8.630907</td>\n",
       "      <td>435.174559</td>\n",
       "      <td>0.548674</td>\n",
       "      <td>0.810852</td>\n",
       "      <td>0.420252</td>\n",
       "    </tr>\n",
       "    <tr>\n",
       "      <th>min</th>\n",
       "      <td>32.000000</td>\n",
       "      <td>1.000000</td>\n",
       "      <td>539.000000</td>\n",
       "      <td>4.000000</td>\n",
       "      <td>24.000000</td>\n",
       "      <td>418.000000</td>\n",
       "      <td>1.000000</td>\n",
       "      <td>0.000000</td>\n",
       "      <td>0.000000</td>\n",
       "    </tr>\n",
       "    <tr>\n",
       "      <th>25%</th>\n",
       "      <td>46.000000</td>\n",
       "      <td>2.000000</td>\n",
       "      <td>809.750000</td>\n",
       "      <td>5.000000</td>\n",
       "      <td>25.000000</td>\n",
       "      <td>679.750000</td>\n",
       "      <td>1.000000</td>\n",
       "      <td>0.000000</td>\n",
       "      <td>0.000000</td>\n",
       "    </tr>\n",
       "    <tr>\n",
       "      <th>50%</th>\n",
       "      <td>56.000000</td>\n",
       "      <td>3.000000</td>\n",
       "      <td>963.500000</td>\n",
       "      <td>6.000000</td>\n",
       "      <td>30.000000</td>\n",
       "      <td>855.500000</td>\n",
       "      <td>1.500000</td>\n",
       "      <td>1.000000</td>\n",
       "      <td>0.000000</td>\n",
       "    </tr>\n",
       "    <tr>\n",
       "      <th>75%</th>\n",
       "      <td>64.000000</td>\n",
       "      <td>4.000000</td>\n",
       "      <td>1199.500000</td>\n",
       "      <td>7.000000</td>\n",
       "      <td>35.500000</td>\n",
       "      <td>1039.750000</td>\n",
       "      <td>2.000000</td>\n",
       "      <td>1.500000</td>\n",
       "      <td>0.000000</td>\n",
       "    </tr>\n",
       "    <tr>\n",
       "      <th>max</th>\n",
       "      <td>90.000000</td>\n",
       "      <td>8.000000</td>\n",
       "      <td>2295.000000</td>\n",
       "      <td>12.000000</td>\n",
       "      <td>50.000000</td>\n",
       "      <td>2752.000000</td>\n",
       "      <td>3.000000</td>\n",
       "      <td>2.000000</td>\n",
       "      <td>1.000000</td>\n",
       "    </tr>\n",
       "  </tbody>\n",
       "</table>\n",
       "</div>"
      ],
      "text/plain": [
       "            Price     Bedroom        Space        Room         Lot  \\\n",
       "count  128.000000  128.000000   128.000000  128.000000  128.000000   \n",
       "mean    56.718750    3.195312  1109.382812    6.531250   32.664062   \n",
       "std     13.348708    1.392096   480.844011    1.724933    8.630907   \n",
       "min     32.000000    1.000000   539.000000    4.000000   24.000000   \n",
       "25%     46.000000    2.000000   809.750000    5.000000   25.000000   \n",
       "50%     56.000000    3.000000   963.500000    6.000000   30.000000   \n",
       "75%     64.000000    4.000000  1199.500000    7.000000   35.500000   \n",
       "max     90.000000    8.000000  2295.000000   12.000000   50.000000   \n",
       "\n",
       "               Tax    Bathroom      Garage   Condition  \n",
       "count   128.000000  128.000000  128.000000  128.000000  \n",
       "mean    925.476562    1.488281    0.812500    0.226562  \n",
       "std     435.174559    0.548674    0.810852    0.420252  \n",
       "min     418.000000    1.000000    0.000000    0.000000  \n",
       "25%     679.750000    1.000000    0.000000    0.000000  \n",
       "50%     855.500000    1.500000    1.000000    0.000000  \n",
       "75%    1039.750000    2.000000    1.500000    0.000000  \n",
       "max    2752.000000    3.000000    2.000000    1.000000  "
      ]
     },
     "execution_count": 97,
     "metadata": {},
     "output_type": "execute_result"
    }
   ],
   "source": [
    "df.describe()\n"
   ]
  },
  {
   "cell_type": "code",
   "execution_count": 58,
   "id": "9219069f",
   "metadata": {},
   "outputs": [],
   "source": [
    "df.dropna(inplace=True)"
   ]
  },
  {
   "cell_type": "code",
   "execution_count": 59,
   "id": "f72b16ba",
   "metadata": {},
   "outputs": [
    {
     "data": {
      "text/plain": [
       "Price        0\n",
       "Bedroom      0\n",
       "Space        0\n",
       "Room         0\n",
       "Lot          0\n",
       "Tax          0\n",
       "Bathroom     0\n",
       "Garage       0\n",
       "Condition    0\n",
       "dtype: int64"
      ]
     },
     "execution_count": 59,
     "metadata": {},
     "output_type": "execute_result"
    }
   ],
   "source": [
    "df.isnull().sum()"
   ]
  },
  {
   "cell_type": "code",
   "execution_count": null,
   "id": "13f3fcc3",
   "metadata": {},
   "outputs": [],
   "source": [
    "df.insert()\n"
   ]
  },
  {
   "cell_type": "code",
   "execution_count": 60,
   "id": "049318d1",
   "metadata": {},
   "outputs": [],
   "source": [
    "\n",
    "#independent\n",
    "x=df.drop(['Price'],axis=1)\n",
    "\n",
    "#dependent\n",
    "y=df['Price']"
   ]
  },
  {
   "cell_type": "code",
   "execution_count": 61,
   "id": "0fb1d53f",
   "metadata": {},
   "outputs": [],
   "source": [
    "from sklearn.model_selection import train_test_split\n",
    "xtrain, xtest,ytrain, ytest = train_test_split(x,y,test_size=0.2)"
   ]
  },
  {
   "cell_type": "code",
   "execution_count": 99,
   "id": "a2aa15ba",
   "metadata": {},
   "outputs": [
    {
     "data": {
      "text/plain": [
       "array([-4.01202593e+00,  1.13781285e-02,  2.44034847e+00,  3.08402255e-01,\n",
       "        2.33475032e-03,  4.51416213e+00,  5.04014935e+00,  5.90693518e-01])"
      ]
     },
     "execution_count": 99,
     "metadata": {},
     "output_type": "execute_result"
    }
   ],
   "source": [
    "from sklearn.linear_model import LinearRegression\n",
    "lm=LinearRegression()\n",
    "lm.fit(xtrain,ytrain)\n",
    "lm.intercept_\n",
    "lm.coef_"
   ]
  },
  {
   "cell_type": "code",
   "execution_count": 67,
   "id": "8d4e16c5",
   "metadata": {},
   "outputs": [
    {
     "data": {
      "text/html": [
       "<div>\n",
       "<style scoped>\n",
       "    .dataframe tbody tr th:only-of-type {\n",
       "        vertical-align: middle;\n",
       "    }\n",
       "\n",
       "    .dataframe tbody tr th {\n",
       "        vertical-align: top;\n",
       "    }\n",
       "\n",
       "    .dataframe thead th {\n",
       "        text-align: right;\n",
       "    }\n",
       "</style>\n",
       "<table border=\"1\" class=\"dataframe\">\n",
       "  <thead>\n",
       "    <tr style=\"text-align: right;\">\n",
       "      <th></th>\n",
       "      <th>Bedroom</th>\n",
       "      <th>Space</th>\n",
       "      <th>Room</th>\n",
       "      <th>Lot</th>\n",
       "      <th>Tax</th>\n",
       "      <th>Bathroom</th>\n",
       "      <th>Garage</th>\n",
       "      <th>Condition</th>\n",
       "    </tr>\n",
       "  </thead>\n",
       "  <tbody>\n",
       "    <tr>\n",
       "      <th>47</th>\n",
       "      <td>2.0</td>\n",
       "      <td>539.0</td>\n",
       "      <td>5.0</td>\n",
       "      <td>50.0</td>\n",
       "      <td>721.0</td>\n",
       "      <td>1.0</td>\n",
       "      <td>0.0</td>\n",
       "      <td>0.0</td>\n",
       "    </tr>\n",
       "    <tr>\n",
       "      <th>155</th>\n",
       "      <td>4.0</td>\n",
       "      <td>951.0</td>\n",
       "      <td>7.0</td>\n",
       "      <td>30.0</td>\n",
       "      <td>895.0</td>\n",
       "      <td>2.0</td>\n",
       "      <td>1.0</td>\n",
       "      <td>0.0</td>\n",
       "    </tr>\n",
       "    <tr>\n",
       "      <th>120</th>\n",
       "      <td>2.0</td>\n",
       "      <td>1107.0</td>\n",
       "      <td>7.0</td>\n",
       "      <td>30.0</td>\n",
       "      <td>722.0</td>\n",
       "      <td>2.0</td>\n",
       "      <td>0.0</td>\n",
       "      <td>1.0</td>\n",
       "    </tr>\n",
       "    <tr>\n",
       "      <th>1</th>\n",
       "      <td>2.0</td>\n",
       "      <td>815.0</td>\n",
       "      <td>5.0</td>\n",
       "      <td>33.0</td>\n",
       "      <td>1000.0</td>\n",
       "      <td>1.0</td>\n",
       "      <td>2.0</td>\n",
       "      <td>1.0</td>\n",
       "    </tr>\n",
       "    <tr>\n",
       "      <th>67</th>\n",
       "      <td>3.0</td>\n",
       "      <td>715.0</td>\n",
       "      <td>5.0</td>\n",
       "      <td>25.0</td>\n",
       "      <td>815.0</td>\n",
       "      <td>1.0</td>\n",
       "      <td>0.0</td>\n",
       "      <td>0.0</td>\n",
       "    </tr>\n",
       "  </tbody>\n",
       "</table>\n",
       "</div>"
      ],
      "text/plain": [
       "     Bedroom   Space  Room   Lot     Tax  Bathroom  Garage  Condition\n",
       "47       2.0   539.0   5.0  50.0   721.0       1.0     0.0        0.0\n",
       "155      4.0   951.0   7.0  30.0   895.0       2.0     1.0        0.0\n",
       "120      2.0  1107.0   7.0  30.0   722.0       2.0     0.0        1.0\n",
       "1        2.0   815.0   5.0  33.0  1000.0       1.0     2.0        1.0\n",
       "67       3.0   715.0   5.0  25.0   815.0       1.0     0.0        0.0"
      ]
     },
     "execution_count": 67,
     "metadata": {},
     "output_type": "execute_result"
    }
   ],
   "source": [
    "xtest.head()"
   ]
  },
  {
   "cell_type": "code",
   "execution_count": 76,
   "id": "8caa74e5",
   "metadata": {},
   "outputs": [
    {
     "data": {
      "text/plain": [
       "(26, 8)"
      ]
     },
     "execution_count": 76,
     "metadata": {},
     "output_type": "execute_result"
    }
   ],
   "source": [
    "prediction = lm.predict(xtest)\n",
    "xtest.shape"
   ]
  },
  {
   "cell_type": "code",
   "execution_count": 85,
   "id": "2458c65f",
   "metadata": {},
   "outputs": [],
   "source": [
    "#house = np [3,1500, 8, 40,1000, 2,1,0]\n",
    "#house.shape\n",
    "\n",
    "house = {\n",
    "    'Bedroom': 3,\n",
    "    'Space': 1500,\n",
    "    'Room': 8,\n",
    "    'Lot': 40,\n",
    "    'Tax': 1000,\n",
    "    'Bathroom': 2,\n",
    "    'Garage': 1,\n",
    "    'Condition': 0\n",
    "}\n",
    "\n",
    "\n",
    "valhouse= house.values()\n",
    "\n"
   ]
  },
  {
   "cell_type": "code",
   "execution_count": 91,
   "id": "ffd3133e",
   "metadata": {},
   "outputs": [],
   "source": [
    "a = np.array([3,1500, 8, 40,1000, 2,1,0])\n",
    "\n",
    "predictionHouse = lm.predict(a.reshape(1,-1))"
   ]
  },
  {
   "cell_type": "code",
   "execution_count": 92,
   "id": "3e3361d9",
   "metadata": {},
   "outputs": [
    {
     "data": {
      "text/plain": [
       "array([70.77210665])"
      ]
     },
     "execution_count": 92,
     "metadata": {},
     "output_type": "execute_result"
    }
   ],
   "source": [
    "predictionHouse"
   ]
  },
  {
   "cell_type": "code",
   "execution_count": null,
   "id": "d7f23381",
   "metadata": {},
   "outputs": [],
   "source": [
    "\n",
    "#[ 2.08654086e+03  6.56429857e+00 -1.27599216e+04  7.80331827e+01\n",
    "#  9.65383477e+01  9.19801647e+03  1.78615633e+04 -3.32879735e+04]"
   ]
  }
 ],
 "metadata": {
  "kernelspec": {
   "display_name": "Python 3 (ipykernel)",
   "language": "python",
   "name": "python3"
  },
  "language_info": {
   "codemirror_mode": {
    "name": "ipython",
    "version": 3
   },
   "file_extension": ".py",
   "mimetype": "text/x-python",
   "name": "python",
   "nbconvert_exporter": "python",
   "pygments_lexer": "ipython3",
   "version": "3.9.7"
  }
 },
 "nbformat": 4,
 "nbformat_minor": 5
}
