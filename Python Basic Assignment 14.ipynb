{
 "cells": [
  {
   "cell_type": "markdown",
   "id": "295dd227",
   "metadata": {},
   "source": [
    "# Python Basic Assignment 14"
   ]
  },
  {
   "cell_type": "markdown",
   "id": "becf87e7",
   "metadata": {},
   "source": [
    "### 1.\tWhat does RGBA stand for?\n",
    "\n",
    "\n",
    "RGBA stands for red, green, blue, and alpha (transparency) in the color\n",
    "\n",
    "An RGBA value is a tuple of 4 integers, each ranging from 0 to 255."
   ]
  },
  {
   "cell_type": "markdown",
   "id": "6fedcbd6",
   "metadata": {},
   "source": [
    "### 2.\tFrom the Pillow module, how do you get the RGBA value of any images?\n",
    "\n"
   ]
  },
  {
   "cell_type": "code",
   "execution_count": 29,
   "id": "38919f21",
   "metadata": {},
   "outputs": [
    {
     "data": {
      "text/plain": [
       "(0, 128, 0, 255)"
      ]
     },
     "execution_count": 29,
     "metadata": {},
     "output_type": "execute_result"
    }
   ],
   "source": [
    "from PIL import ImageColor\n",
    "ImageColor.getcolor('green', 'RGBA')\n",
    "#ImageColor.getcolor('red', 'RGBA')"
   ]
  },
  {
   "cell_type": "markdown",
   "id": "6d25ead9",
   "metadata": {},
   "source": [
    "\n",
    "### 3.\tWhat is a box tuple, and how does it work?\n",
    "\n",
    "A box tuple is a tuple value of four integers: the left edge x-coordinate, the top edge y-coordinate, the width, and the height, respectively"
   ]
  },
  {
   "cell_type": "markdown",
   "id": "eced8080",
   "metadata": {},
   "source": [
    "\n",
    "### 4.\tUse your image and load in notebook then, How can you find out the width and height of an Image object?\n",
    "\n"
   ]
  },
  {
   "cell_type": "code",
   "execution_count": 7,
   "id": "3d2e9938",
   "metadata": {},
   "outputs": [
    {
     "data": {
      "text/html": [
       "<img src=\"abc.jpg\" width=\"300\" height=\"300\"/>"
      ],
      "text/plain": [
       "<IPython.core.display.Image object>"
      ]
     },
     "execution_count": 7,
     "metadata": {},
     "output_type": "execute_result"
    }
   ],
   "source": [
    "from IPython.display import Image\n",
    "Image(url=\"abc.jpg\", width=300, height=300)"
   ]
  },
  {
   "cell_type": "code",
   "execution_count": 4,
   "id": "a8e7be33",
   "metadata": {},
   "outputs": [
    {
     "data": {
      "text/plain": [
       "(1000, 667)"
      ]
     },
     "execution_count": 4,
     "metadata": {},
     "output_type": "execute_result"
    }
   ],
   "source": [
    "from PIL import Image\n",
    "myImg = Image.open('abc.jpg')\n",
    "w,h = myImg.size\n",
    "w,h"
   ]
  },
  {
   "cell_type": "markdown",
   "id": "7b715783",
   "metadata": {},
   "source": [
    "### 5.\tWhat method would you call to get Image object for a 100×100 image, excluding the lower-left quarter of it?\n",
    "\n",
    "\n",
    "ImageObject.crop((0, 50, 50, 50))"
   ]
  },
  {
   "cell_type": "code",
   "execution_count": 28,
   "id": "e24244e6",
   "metadata": {},
   "outputs": [
    {
     "data": {
      "text/html": [
       "<img src=\"crop_abc2.png\" width=\"300\" height=\"300\"/>"
      ],
      "text/plain": [
       "<IPython.core.display.Image object>"
      ]
     },
     "execution_count": 28,
     "metadata": {},
     "output_type": "execute_result"
    }
   ],
   "source": [
    "import PIL\n",
    "from IPython.display import Image\n",
    "# Opens a image in RGB mode\n",
    "im = PIL.Image.open(\"abc.jpg\")\n",
    "# Setting the points for cropped image\n",
    "left = 0\n",
    "top = 100\n",
    "right = 100\n",
    "bottom = 100\n",
    "cropped = im.crop((left, top, left+right, top+bottom))\n",
    "# Shows the image in image viewer\n",
    "#im1.show()  not working \n",
    "# use %matplot lib to show in jupyter\n",
    "cropped.save('crop_abc2.png', 'PNG')\n",
    "# or save file and load file\n",
    "Image(url=\"crop_abc2.png\", width=300, height=300)"
   ]
  },
  {
   "cell_type": "markdown",
   "id": "0372ed53",
   "metadata": {},
   "source": [
    "### 6.\tAfter making changes to an Image object, how could you save it as an image file?\n",
    "\n",
    "\n",
    "After making changes to an Image object, how could you save it as an image file?"
   ]
  },
  {
   "cell_type": "markdown",
   "id": "4b6e3592",
   "metadata": {},
   "source": [
    "### 7.\tWhat module contains Pillow’s shape-drawing code?\n",
    "\n",
    "\n",
    "By Calling the imageObj.save('new_filename.png') method of the Image object."
   ]
  },
  {
   "cell_type": "markdown",
   "id": "fe73cc80",
   "metadata": {},
   "source": [
    "### 8.\tImage objects do not have drawing methods. What kind of object does? How do you get this kind of object?\n",
    "\n",
    "ImageDraw objects have shape-drawing methods such as point(), line(), or rectangle(). They are returned by passing the Image object to the ImageDraw.Draw() function"
   ]
  },
  {
   "cell_type": "code",
   "execution_count": null,
   "id": "eddba01b",
   "metadata": {},
   "outputs": [],
   "source": []
  }
 ],
 "metadata": {
  "kernelspec": {
   "display_name": "Python 3 (ipykernel)",
   "language": "python",
   "name": "python3"
  },
  "language_info": {
   "codemirror_mode": {
    "name": "ipython",
    "version": 3
   },
   "file_extension": ".py",
   "mimetype": "text/x-python",
   "name": "python",
   "nbconvert_exporter": "python",
   "pygments_lexer": "ipython3",
   "version": "3.9.7"
  }
 },
 "nbformat": 4,
 "nbformat_minor": 5
}
