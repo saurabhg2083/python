{
 "cells": [
  {
   "cell_type": "markdown",
   "id": "912681fd",
   "metadata": {},
   "source": [
    "# Python Basic Assignment 20"
   ]
  },
  {
   "cell_type": "markdown",
   "id": "6c359a19",
   "metadata": {},
   "source": [
    "### 1.\tSet the variable test1 to the string 'This is a test of the emergency text system,' and save test1 to a file named test.txt.\n"
   ]
  },
  {
   "cell_type": "code",
   "execution_count": 18,
   "id": "67eda31d",
   "metadata": {},
   "outputs": [],
   "source": [
    "test1 = 'This is a test of the emergency text system,'\n",
    "file = open('test.txt','w')\n",
    "file.write(test1)\n",
    "file.close()"
   ]
  },
  {
   "cell_type": "markdown",
   "id": "dbf49015",
   "metadata": {},
   "source": [
    "### 2.\tRead the contents of the file test.txt into the variable test2. Is there a difference between test 1 and test 2?\n"
   ]
  },
  {
   "cell_type": "code",
   "execution_count": 19,
   "id": "adc1d610",
   "metadata": {},
   "outputs": [
    {
     "data": {
      "text/plain": [
       "'This is a test of the emergency text system,'"
      ]
     },
     "execution_count": 19,
     "metadata": {},
     "output_type": "execute_result"
    }
   ],
   "source": [
    "file2 = open('test.txt','r')\n",
    "test2 = file2.readline()\n",
    "test2"
   ]
  },
  {
   "cell_type": "code",
   "execution_count": 20,
   "id": "c89c317b",
   "metadata": {},
   "outputs": [
    {
     "name": "stdout",
     "output_type": "stream",
     "text": [
      "Both are same\n"
     ]
    }
   ],
   "source": [
    "if test1==test2:\n",
    "    print('Both are same')"
   ]
  },
  {
   "cell_type": "markdown",
   "id": "353be9ff",
   "metadata": {},
   "source": [
    "### 3.\tCreate a CSV file called books.csv by using these lines:\n",
    "\n",
    " title,author,year\n",
    " \n",
    "The Weirdstone of Brisingamen,Alan Garner,1960\n",
    "\n",
    "Perdido Street Station,China Miéville,2000\n",
    "\n",
    "Thud!,Terry Pratchett,2005\n",
    "\n",
    "The Spellman Files,Lisa Lutz,2007\n",
    "\n",
    "Small Gods,Terry Pratchett,1992\n"
   ]
  },
  {
   "cell_type": "code",
   "execution_count": 21,
   "id": "d3a4c631",
   "metadata": {},
   "outputs": [],
   "source": [
    "import csv\n",
    "rows =[ ['title','author','year'],\n",
    "    ['The Weirdstone of Brisingamen','Alan Garner',1960],\n",
    "    ['Perdido Street Station','China Miéville',2000],\n",
    "    ['Thud!','Terry Pratchett',2005],\n",
    "    ['The Spellman Files','Lisa Lutz',2007],\n",
    "    ['Small Gods','Terry Pratchett',1992]]\n",
    "with open('books.csv','w',newline='') as file:\n",
    "    writer = csv.writer(file)\n",
    "    writer.writerows(rows)"
   ]
  },
  {
   "cell_type": "code",
   "execution_count": null,
   "id": "86086989",
   "metadata": {},
   "outputs": [],
   "source": []
  },
  {
   "cell_type": "markdown",
   "id": "1d48ac90",
   "metadata": {},
   "source": [
    "### 4.\tUse the sqlite3 module to create a SQLite database called books.db, and a table called books with these fields: title (text), author (text), and year (integer).\n"
   ]
  },
  {
   "cell_type": "code",
   "execution_count": 44,
   "id": "76b9888b",
   "metadata": {},
   "outputs": [],
   "source": [
    "import sqlite3\n",
    "conn = sqlite3.connect('books.db')\n",
    "c = conn.cursor()\n",
    "\n",
    "c.execute('DROP table IF EXISTS books; ')\n",
    "c.execute('create table books (title varchar(20),author varchar(20), year int)')\n",
    "\n",
    "conn.commit()\n"
   ]
  },
  {
   "cell_type": "code",
   "execution_count": 45,
   "id": "b1a77f87",
   "metadata": {},
   "outputs": [],
   "source": [
    "\n",
    "c.execute(\"\"\"\n",
    "    INSERT INTO books VALUES\n",
    "        ('Saurabhs Python', 'Saurabh', 2022),('Saurabhs Python1', 'Saurabh1', 2022),('Saurabhs Python2', 'Saurabh2', 2022)\n",
    "\"\"\")\n",
    "\n",
    "conn.commit()\n"
   ]
  },
  {
   "cell_type": "code",
   "execution_count": 46,
   "id": "e740659c",
   "metadata": {},
   "outputs": [
    {
     "name": "stdout",
     "output_type": "stream",
     "text": [
      "('Saurabhs Python', 'Saurabh', 2022)\n",
      "('Saurabhs Python1', 'Saurabh1', 2022)\n",
      "('Saurabhs Python2', 'Saurabh2', 2022)\n"
     ]
    }
   ],
   "source": [
    "cur = conn.cursor()\n",
    "\n",
    "# The result of a \"cursor.execute\" can be iterated over by row\n",
    "for row in cur.execute('SELECT * FROM books;'):\n",
    "    print(row)\n",
    "# Be sure to close the connection\n",
    "conn.close()"
   ]
  },
  {
   "cell_type": "markdown",
   "id": "73400ddc",
   "metadata": {},
   "source": [
    "### 5.\tRead books.csv and insert its data into the book table.\n"
   ]
  },
  {
   "cell_type": "code",
   "execution_count": 50,
   "id": "58ca9545",
   "metadata": {},
   "outputs": [],
   "source": [
    "import pandas as pd"
   ]
  },
  {
   "cell_type": "code",
   "execution_count": 51,
   "id": "36d89030",
   "metadata": {},
   "outputs": [
    {
     "data": {
      "text/html": [
       "<div>\n",
       "<style scoped>\n",
       "    .dataframe tbody tr th:only-of-type {\n",
       "        vertical-align: middle;\n",
       "    }\n",
       "\n",
       "    .dataframe tbody tr th {\n",
       "        vertical-align: top;\n",
       "    }\n",
       "\n",
       "    .dataframe thead th {\n",
       "        text-align: right;\n",
       "    }\n",
       "</style>\n",
       "<table border=\"1\" class=\"dataframe\">\n",
       "  <thead>\n",
       "    <tr style=\"text-align: right;\">\n",
       "      <th></th>\n",
       "      <th>title</th>\n",
       "      <th>author</th>\n",
       "      <th>year</th>\n",
       "    </tr>\n",
       "  </thead>\n",
       "  <tbody>\n",
       "    <tr>\n",
       "      <th>0</th>\n",
       "      <td>The Weirdstone of Brisingamen</td>\n",
       "      <td>Alan Garner</td>\n",
       "      <td>1960</td>\n",
       "    </tr>\n",
       "    <tr>\n",
       "      <th>1</th>\n",
       "      <td>Perdido Street Station</td>\n",
       "      <td>China Miéville</td>\n",
       "      <td>2000</td>\n",
       "    </tr>\n",
       "    <tr>\n",
       "      <th>2</th>\n",
       "      <td>Thud!</td>\n",
       "      <td>Terry Pratchett</td>\n",
       "      <td>2005</td>\n",
       "    </tr>\n",
       "    <tr>\n",
       "      <th>3</th>\n",
       "      <td>The Spellman Files</td>\n",
       "      <td>Lisa Lutz</td>\n",
       "      <td>2007</td>\n",
       "    </tr>\n",
       "    <tr>\n",
       "      <th>4</th>\n",
       "      <td>Small Gods</td>\n",
       "      <td>Terry Pratchett</td>\n",
       "      <td>1992</td>\n",
       "    </tr>\n",
       "  </tbody>\n",
       "</table>\n",
       "</div>"
      ],
      "text/plain": [
       "                           title           author  year\n",
       "0  The Weirdstone of Brisingamen      Alan Garner  1960\n",
       "1         Perdido Street Station   China Miéville  2000\n",
       "2                          Thud!  Terry Pratchett  2005\n",
       "3             The Spellman Files        Lisa Lutz  2007\n",
       "4                     Small Gods  Terry Pratchett  1992"
      ]
     },
     "execution_count": 51,
     "metadata": {},
     "output_type": "execute_result"
    }
   ],
   "source": [
    "read_books = pd.read_csv('books.csv',encoding='unicode_escape')\n",
    "read_books"
   ]
  },
  {
   "cell_type": "code",
   "execution_count": 52,
   "id": "6e30121b",
   "metadata": {},
   "outputs": [],
   "source": [
    "conn = sqlite3.connect('books.db')\n",
    "read_books.to_sql('books', conn, if_exists='append', index = False)"
   ]
  },
  {
   "cell_type": "code",
   "execution_count": 53,
   "id": "1aa8668e",
   "metadata": {},
   "outputs": [
    {
     "name": "stdout",
     "output_type": "stream",
     "text": [
      "('Saurabhs Python', 'Saurabh', 2022)\n",
      "('Saurabhs Python1', 'Saurabh1', 2022)\n",
      "('Saurabhs Python2', 'Saurabh2', 2022)\n",
      "('The Weirdstone of Brisingamen', 'Alan Garner', 1960)\n",
      "('Perdido Street Station', 'China Miéville', 2000)\n",
      "('Thud!', 'Terry Pratchett', 2005)\n",
      "('The Spellman Files', 'Lisa Lutz', 2007)\n",
      "('Small Gods', 'Terry Pratchett', 1992)\n"
     ]
    }
   ],
   "source": [
    "cur = conn.cursor()\n",
    "\n",
    "# The result of a \"cursor.execute\" can be iterated over by row\n",
    "for row in cur.execute('SELECT * FROM books;'):\n",
    "    print(row)\n",
    "# Be sure to close the connection\n",
    "conn.close()"
   ]
  },
  {
   "cell_type": "markdown",
   "id": "ba6fc7e1",
   "metadata": {},
   "source": [
    "### 6.\tSelect and print the title column from the book table in alphabetical order.\n"
   ]
  },
  {
   "cell_type": "code",
   "execution_count": 55,
   "id": "63d3db39",
   "metadata": {},
   "outputs": [
    {
     "name": "stdout",
     "output_type": "stream",
     "text": [
      "[('Perdido Street Station',), ('Saurabhs Python',), ('Saurabhs Python1',), ('Saurabhs Python2',), ('Small Gods',), ('The Spellman Files',), ('The Weirdstone of Brisingamen',), ('Thud!',)]\n"
     ]
    }
   ],
   "source": [
    "conn = sqlite3.connect('books.db')\n",
    "cur = conn.cursor()\n",
    "cur.execute('select title from books order by title asc')\n",
    "print(cur.fetchall())\n",
    "conn.close()"
   ]
  },
  {
   "cell_type": "markdown",
   "id": "17a64a23",
   "metadata": {},
   "source": [
    "### 7.\tFrom the book table, select and print all columns in the order of publication.\n"
   ]
  },
  {
   "cell_type": "code",
   "execution_count": 56,
   "id": "fe9de114",
   "metadata": {},
   "outputs": [
    {
     "data": {
      "text/html": [
       "<div>\n",
       "<style scoped>\n",
       "    .dataframe tbody tr th:only-of-type {\n",
       "        vertical-align: middle;\n",
       "    }\n",
       "\n",
       "    .dataframe tbody tr th {\n",
       "        vertical-align: top;\n",
       "    }\n",
       "\n",
       "    .dataframe thead th {\n",
       "        text-align: right;\n",
       "    }\n",
       "</style>\n",
       "<table border=\"1\" class=\"dataframe\">\n",
       "  <thead>\n",
       "    <tr style=\"text-align: right;\">\n",
       "      <th></th>\n",
       "      <th>title</th>\n",
       "      <th>author</th>\n",
       "      <th>year</th>\n",
       "    </tr>\n",
       "  </thead>\n",
       "  <tbody>\n",
       "    <tr>\n",
       "      <th>0</th>\n",
       "      <td>The Weirdstone of Brisingamen</td>\n",
       "      <td>Alan Garner</td>\n",
       "      <td>1960</td>\n",
       "    </tr>\n",
       "    <tr>\n",
       "      <th>1</th>\n",
       "      <td>Small Gods</td>\n",
       "      <td>Terry Pratchett</td>\n",
       "      <td>1992</td>\n",
       "    </tr>\n",
       "    <tr>\n",
       "      <th>2</th>\n",
       "      <td>Perdido Street Station</td>\n",
       "      <td>China Miéville</td>\n",
       "      <td>2000</td>\n",
       "    </tr>\n",
       "    <tr>\n",
       "      <th>3</th>\n",
       "      <td>Thud!</td>\n",
       "      <td>Terry Pratchett</td>\n",
       "      <td>2005</td>\n",
       "    </tr>\n",
       "    <tr>\n",
       "      <th>4</th>\n",
       "      <td>The Spellman Files</td>\n",
       "      <td>Lisa Lutz</td>\n",
       "      <td>2007</td>\n",
       "    </tr>\n",
       "    <tr>\n",
       "      <th>5</th>\n",
       "      <td>Saurabhs Python</td>\n",
       "      <td>Saurabh</td>\n",
       "      <td>2022</td>\n",
       "    </tr>\n",
       "    <tr>\n",
       "      <th>6</th>\n",
       "      <td>Saurabhs Python1</td>\n",
       "      <td>Saurabh1</td>\n",
       "      <td>2022</td>\n",
       "    </tr>\n",
       "    <tr>\n",
       "      <th>7</th>\n",
       "      <td>Saurabhs Python2</td>\n",
       "      <td>Saurabh2</td>\n",
       "      <td>2022</td>\n",
       "    </tr>\n",
       "  </tbody>\n",
       "</table>\n",
       "</div>"
      ],
      "text/plain": [
       "                           title           author  year\n",
       "0  The Weirdstone of Brisingamen      Alan Garner  1960\n",
       "1                     Small Gods  Terry Pratchett  1992\n",
       "2         Perdido Street Station   China Miéville  2000\n",
       "3                          Thud!  Terry Pratchett  2005\n",
       "4             The Spellman Files        Lisa Lutz  2007\n",
       "5                Saurabhs Python          Saurabh  2022\n",
       "6               Saurabhs Python1         Saurabh1  2022\n",
       "7               Saurabhs Python2         Saurabh2  2022"
      ]
     },
     "execution_count": 56,
     "metadata": {},
     "output_type": "execute_result"
    }
   ],
   "source": [
    "conn = sqlite3.connect('books.db')\n",
    "cur = conn.cursor()\n",
    "cur.execute('select title, author,year from books order by year')\n",
    "df = pd.DataFrame(cur.fetchall(), columns=['title','author','year'])\n",
    "conn.close()\n",
    "df"
   ]
  },
  {
   "cell_type": "markdown",
   "id": "aa222be4",
   "metadata": {},
   "source": [
    "### 8.\tUse the sqlalchemy module to connect to the sqlite3 database books.db that you just made in exercise 6.\n"
   ]
  },
  {
   "cell_type": "code",
   "execution_count": 57,
   "id": "0fd31cd6",
   "metadata": {},
   "outputs": [
    {
     "name": "stdout",
     "output_type": "stream",
     "text": [
      "('Saurabhs Python', 'Saurabh', 2022)\n",
      "('Saurabhs Python1', 'Saurabh1', 2022)\n",
      "('Saurabhs Python2', 'Saurabh2', 2022)\n",
      "('The Weirdstone of Brisingamen', 'Alan Garner', 1960)\n",
      "('Perdido Street Station', 'China Miéville', 2000)\n",
      "('Thud!', 'Terry Pratchett', 2005)\n",
      "('The Spellman Files', 'Lisa Lutz', 2007)\n",
      "('Small Gods', 'Terry Pratchett', 1992)\n"
     ]
    }
   ],
   "source": [
    "import sqlalchemy\n",
    "engine = sqlalchemy.create_engine(\"sqlite:///books.db\")\n",
    "rows = engine.execute('select * from books')\n",
    "for i in rows:\n",
    "    print(i)"
   ]
  },
  {
   "cell_type": "markdown",
   "id": "221415ad",
   "metadata": {},
   "source": [
    "### 9.\tInstall the Redis server and the Python redis library (pip install redis) on your computer. Create a Redis hash called test with the fields count (1) and name ('Fester Bestertester'). Print all the fields for test.\n"
   ]
  },
  {
   "cell_type": "code",
   "execution_count": 13,
   "id": "ec7790a7",
   "metadata": {
    "scrolled": true
   },
   "outputs": [
    {
     "name": "stdout",
     "output_type": "stream",
     "text": [
      "Requirement already satisfied: redis in c:\\users\\lenovo\\anaconda3\\lib\\site-packages (4.4.0)\n",
      "Requirement already satisfied: async-timeout>=4.0.2 in c:\\users\\lenovo\\anaconda3\\lib\\site-packages (from redis) (4.0.2)\n"
     ]
    }
   ],
   "source": [
    "# !pip install redis"
   ]
  },
  {
   "cell_type": "code",
   "execution_count": 6,
   "id": "6d9784a9",
   "metadata": {},
   "outputs": [
    {
     "name": "stdout",
     "output_type": "stream",
     "text": [
      "Value from Redis --> b'amalgjose'\n"
     ]
    }
   ],
   "source": [
    "import redis\n",
    "\n",
    "# create the redis connection\n",
    "r_conn = redis.Redis( host='127.0.0.1', port=6379)\n",
    "\n",
    "# create a key-value pair with key as name and value as \"amalgjose\"\n",
    "r_conn.set('name', 'amalgjose')\n",
    "\n",
    "# retrieve the value by using the key\n",
    "value = r_conn.get('name')\n",
    "print(\"Value from Redis -->\", value)"
   ]
  },
  {
   "cell_type": "code",
   "execution_count": 29,
   "id": "64891e6b",
   "metadata": {},
   "outputs": [
    {
     "data": {
      "text/plain": [
       "b'count'"
      ]
     },
     "execution_count": 29,
     "metadata": {},
     "output_type": "execute_result"
    }
   ],
   "source": [
    "import hashlib\n",
    "#data = b\"{'count': '1', 'name': 'Fester Bestertester'}\"\n",
    "\n",
    "hashdata = hashlib.sha256(data).hexdigest()\n",
    "r_conn.set('test', 'count', 1)\n",
    "r_conn.get('test')\n"
   ]
  },
  {
   "cell_type": "markdown",
   "id": "4e6447bb",
   "metadata": {},
   "source": [
    "### 10.\tIncrement the count field of test and print it."
   ]
  },
  {
   "cell_type": "code",
   "execution_count": 30,
   "id": "255b4aac",
   "metadata": {},
   "outputs": [
    {
     "ename": "NameError",
     "evalue": "name 'conn' is not defined",
     "output_type": "error",
     "traceback": [
      "\u001b[1;31m---------------------------------------------------------------------------\u001b[0m",
      "\u001b[1;31mNameError\u001b[0m                                 Traceback (most recent call last)",
      "\u001b[1;32m~\\AppData\\Local\\Temp/ipykernel_18260/33208640.py\u001b[0m in \u001b[0;36m<module>\u001b[1;34m\u001b[0m\n\u001b[1;32m----> 1\u001b[1;33m \u001b[0mconn\u001b[0m\u001b[1;33m.\u001b[0m\u001b[0mhincrby\u001b[0m\u001b[1;33m(\u001b[0m\u001b[1;34m'test'\u001b[0m\u001b[1;33m,\u001b[0m\u001b[1;34m'count'\u001b[0m\u001b[1;33m,\u001b[0m \u001b[1;36m3\u001b[0m\u001b[1;33m)\u001b[0m\u001b[1;33m\u001b[0m\u001b[1;33m\u001b[0m\u001b[0m\n\u001b[0m",
      "\u001b[1;31mNameError\u001b[0m: name 'conn' is not defined"
     ]
    }
   ],
   "source": [
    "conn.hincrby('test','count', 3)"
   ]
  },
  {
   "cell_type": "code",
   "execution_count": null,
   "id": "fa2c8156",
   "metadata": {},
   "outputs": [],
   "source": []
  }
 ],
 "metadata": {
  "kernelspec": {
   "display_name": "Python 3 (ipykernel)",
   "language": "python",
   "name": "python3"
  },
  "language_info": {
   "codemirror_mode": {
    "name": "ipython",
    "version": 3
   },
   "file_extension": ".py",
   "mimetype": "text/x-python",
   "name": "python",
   "nbconvert_exporter": "python",
   "pygments_lexer": "ipython3",
   "version": "3.9.7"
  }
 },
 "nbformat": 4,
 "nbformat_minor": 5
}
