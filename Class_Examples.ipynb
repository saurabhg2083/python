{
 "cells": [
  {
   "cell_type": "markdown",
   "id": "5234c789",
   "metadata": {},
   "source": [
    "### Q1: Create your own class to perform a list search operation"
   ]
  },
  {
   "cell_type": "code",
   "execution_count": 9,
   "id": "c7ff1025",
   "metadata": {},
   "outputs": [
    {
     "name": "stdout",
     "output_type": "stream",
     "text": [
      "ABC\n",
      "XYZ\n",
      "MNK\n",
      "KLY\n"
     ]
    }
   ],
   "source": [
    "class listsearch:\n",
    "    def __init__(self, name, roll):\n",
    "        self.name = name\n",
    "        self.roll = roll\n",
    "\n",
    "list = []\n",
    "\n",
    "list.append(listsearch('ABC', 2))\n",
    "list.append(listsearch('XYZ', 36))\n",
    "list.append(listsearch('MNK', 44))\n",
    "list.append(listsearch('KLY', 67))\n",
    "\n",
    "#for obj in list:\n",
    "#    print(obj.name, obj.roll, sep=' ')\n",
    "\n",
    "\n",
    "print(list[0].name)\n",
    "print(list[1].name)\n",
    "print(list[2].name)\n",
    "print(list[3].name)"
   ]
  },
  {
   "cell_type": "code",
   "execution_count": 21,
   "id": "db039ee8",
   "metadata": {},
   "outputs": [],
   "source": [
    "class listsearch:\n",
    "    def __init__(self, mylist):\n",
    "        self.mylist = mylist\n",
    "        \n",
    "    def searchelement(self, serachval):\n",
    "        if serachval in self.mylist:\n",
    "            print(\"exist\")\n",
    "        else:\n",
    "            print(\"not exist\")\n",
    "    \n",
    "\n",
    "list = [10,20,49,278,18,90,56,8]\n",
    "\n",
    "obj = listsearch(list)\n",
    "\n",
    "element = 10\n",
    "obj.searchelement(element)\n",
    "\n",
    "element = 30\n",
    "obj.searchelement(30)"
   ]
  },
  {
   "cell_type": "code",
   "execution_count": 27,
   "id": "d83307fc",
   "metadata": {},
   "outputs": [
    {
     "name": "stdout",
     "output_type": "stream",
     "text": [
      "exist\n"
     ]
    }
   ],
   "source": [
    "class listsearch:       \n",
    "    def searchelement(mylist,serachval):\n",
    "        if serachval in mylist:\n",
    "            print(\"exist\")\n",
    "        else:\n",
    "            print(\"not exist\")\n",
    "    \n",
    "\n",
    "list = [10,20,49,278,18,90,56,8]\n",
    "element = 10\n",
    "\n",
    "listsearch.searchelement(list,element)"
   ]
  },
  {
   "cell_type": "markdown",
   "id": "fa654675",
   "metadata": {},
   "source": [
    "### Q2 Create a class for dict new element addition"
   ]
  },
  {
   "cell_type": "code",
   "execution_count": 32,
   "id": "26d259ee",
   "metadata": {},
   "outputs": [
    {
     "name": "stdout",
     "output_type": "stream",
     "text": [
      "{1: 'Saurabh', 2: 'Gupta'}\n"
     ]
    }
   ],
   "source": [
    "class my_dictionary(dict):\n",
    "    def __init__(self):\n",
    "        self = dict()\n",
    "\n",
    "    def add(self, key, value):\n",
    "        self[key] = value\n",
    "\n",
    "dict_obj = my_dictionary()\n",
    "dict_obj.add(1, 'Saurabh')\n",
    "dict_obj.add(2, 'Gupta')\n",
    "\n",
    "print(dict_obj)\n"
   ]
  },
  {
   "cell_type": "code",
   "execution_count": 33,
   "id": "2dfea6bb",
   "metadata": {},
   "outputs": [
    {
     "name": "stdout",
     "output_type": "stream",
     "text": [
      "{1: 'Saurabh', 2: 'Gupta', 3: 'Saurabh', 4: 'Gupta'}\n"
     ]
    }
   ],
   "source": [
    "dict_obj.add(3, 'Saurabh')\n",
    "dict_obj.add(4, 'Gupta')\n",
    "\n",
    "print(dict_obj)\n"
   ]
  },
  {
   "cell_type": "code",
   "execution_count": 34,
   "id": "1c59c620",
   "metadata": {},
   "outputs": [
    {
     "name": "stdout",
     "output_type": "stream",
     "text": [
      "{1: 'Saurabh', 2: 'Gupta', 3: 'Saurabh', 4: 'Gupta'}\n"
     ]
    }
   ],
   "source": [
    "dict_obj.add(3, 'Saurabh')\n",
    "dict_obj.add(4, 'Gupta')\n",
    "\n",
    "print(dict_obj)\n"
   ]
  },
  {
   "cell_type": "markdown",
   "id": "d6d69022",
   "metadata": {},
   "source": [
    "### Q3 Create a class for tuple data extraction"
   ]
  },
  {
   "cell_type": "code",
   "execution_count": 42,
   "id": "eb54b18a",
   "metadata": {},
   "outputs": [
    {
     "name": "stdout",
     "output_type": "stream",
     "text": [
      "0\n",
      "1\n",
      "2\n",
      "3\n",
      "Geeks\n",
      "For\n",
      "Geeks\n"
     ]
    }
   ],
   "source": [
    "class my_tuple:\n",
    "    def __init__(self,tuplelements):\n",
    "        self.tuplelements = tuplelements\n",
    "\n",
    "    def dataextract(self):\n",
    "        for x in self.tuplelements:\n",
    "            print(x)\n",
    "\n",
    "\n",
    "Tuple1 = (0, 1, 2, 3)\n",
    "tup_obj1 = my_tuple(Tuple1)\n",
    "tup_obj1.dataextract()\n",
    "\n",
    "Tuple2 = ('Geeks', 'For', 'Geeks')\n",
    "tup_obj2 = my_tuple(Tuple2)\n",
    "tup_obj2.dataextract()"
   ]
  },
  {
   "cell_type": "markdown",
   "id": "b2156857",
   "metadata": {},
   "source": [
    "### Q4 Create a class for insert, update, and delete in mysql"
   ]
  },
  {
   "cell_type": "code",
   "execution_count": 1,
   "id": "6c79508e",
   "metadata": {},
   "outputs": [],
   "source": [
    "import mysql.connector\n"
   ]
  },
  {
   "cell_type": "code",
   "execution_count": 69,
   "id": "8a49a84c",
   "metadata": {},
   "outputs": [],
   "source": [
    "class MySQLUtil():\n",
    "    \n",
    "    def __init__(self,host =\"localhost\", user=\"root\", psw=\"\", db_name=\"testdb\", charset='utf8', debug=False):\n",
    "        ''' Intialize a Database object and connect to the database '''\n",
    "        self.host = host\n",
    "        self.user=user\n",
    "        self.psw=psw\n",
    "        self.db_name=db_name\n",
    "        self.charset=charset\n",
    "        self.debug = debug\n",
    "        self.conn = None\n",
    "        \n",
    "        try:\n",
    "            self.conn = self.get_connector()\n",
    "        except mysql.connector.Error as err:\n",
    "            print(str(err))\n",
    "            print('Error connecting to the host.')\n",
    "\n",
    "        if self.debug:\n",
    "            print('Connected to host.')\n",
    "        self.cursor = self.conn.cursor()\n",
    "        \n",
    "        \n",
    "    def get_connector(self):\n",
    "        ''' Connect to the database and return the connector '''\n",
    "        if self.debug:\n",
    "            print('Connecting to database...')\n",
    "        # If there is an active connection ,return it\n",
    "        if isinstance(self.conn, mysql.connector.connection.MySQLConnection):\n",
    "            if self.debug:\n",
    "                print('Already connected!')\n",
    "            return self.conn\n",
    "        return mysql.connector.connect(user = self.user, password = self.psw, host = self.host, database = self.db_name)\n",
    "    \n",
    "    \n",
    "    def get_results(self, query):\n",
    "        ''' Return all the results from a query '''\n",
    "        try:\n",
    "            self.cursor.execute(query)\n",
    "        except InternalError:\n",
    "            if self.debug:\n",
    "                print('Error')\n",
    "            return []\n",
    "        return self.cursor.fetchall()\n",
    "    \n",
    "    def close_connection(self):\n",
    "        ''' Close the connection '''\n",
    "        self.conn.close()\n",
    "        if self.debug:\n",
    "            print('Connection closed.')\n",
    "            \n",
    "    def insert_upd_query(self, query):\n",
    "        ''' Insert query '''\n",
    "        try:\n",
    "            self.cursor.execute(query)\n",
    "            self.commit()\n",
    "        except Exception(e):\n",
    "            if self.debug:\n",
    "                print('Error: %s' % str(e))\n",
    "                self.rollback()\n",
    "                return 0\n",
    "            \n",
    "        return self.cursor.rowcount\n",
    "    \n",
    "    def commit(self):\n",
    "        ''' Commit changes to the DB '''\n",
    "        if self.debug:\n",
    "            print('Commiting changes...')\n",
    "        self.conn.commit()\n",
    "\n",
    "\n",
    "    def rollback(self):\n",
    "        ''' Rollback changes in case of errors of any kind '''\n",
    "        if self.debug:\n",
    "            print('Rolling back...')\n",
    "        self.conn.rollback()"
   ]
  },
  {
   "cell_type": "code",
   "execution_count": 70,
   "id": "20550a4b",
   "metadata": {},
   "outputs": [
    {
     "name": "stdout",
     "output_type": "stream",
     "text": [
      "(2, 5, datetime.datetime(2015, 5, 9, 12, 42))\n",
      "(4, -42, datetime.datetime(2015, 5, 9, 13, 19, 57))\n",
      "(2, 2, datetime.datetime(2015, 5, 9, 14, 48, 39))\n",
      "(2, 7, datetime.datetime(2015, 5, 9, 13, 54, 39))\n",
      "(3, 16, datetime.datetime(2015, 5, 9, 13, 19, 57))\n",
      "(3, 20, datetime.datetime(2015, 5, 9, 15, 1, 9))\n",
      "(1, 1, datetime.datetime(2023, 1, 19, 10, 46, 6))\n",
      "(1, 1, datetime.datetime(2023, 1, 19, 10, 46, 35))\n",
      "(4, 1, datetime.datetime(2023, 1, 19, 10, 49, 57))\n",
      "(4, 3, datetime.datetime(2023, 1, 19, 10, 50, 55))\n",
      "(4, 3, datetime.datetime(2023, 1, 19, 10, 52, 24))\n",
      "(4, 3, datetime.datetime(2023, 1, 19, 10, 52, 28))\n",
      "(4, 3, datetime.datetime(2023, 1, 19, 10, 54, 49))\n",
      "(4, 3, datetime.datetime(2023, 1, 19, 10, 56, 37))\n",
      "(4, 3, datetime.datetime(2023, 1, 19, 10, 56, 46))\n",
      "(4, 3, datetime.datetime(2023, 1, 19, 10, 56, 55))\n",
      "(4, 3, datetime.datetime(2023, 1, 19, 10, 57, 15))\n",
      "(4, 3, datetime.datetime(2023, 1, 19, 10, 58, 34))\n",
      "(4, 3, datetime.datetime(2023, 1, 19, 10, 58, 48))\n"
     ]
    }
   ],
   "source": [
    "object1 = MySQLUtil()\n",
    "\n",
    "qry = \"SELECT `event_type`,`value`,`time` FROM `testdb`.`events` LIMIT 0, 1000\";\n",
    "myresult = object1.get_results(qry)\n",
    "\n",
    "for x in myresult:\n",
    "    print(x)"
   ]
  },
  {
   "cell_type": "code",
   "execution_count": 71,
   "id": "09ce272c",
   "metadata": {},
   "outputs": [],
   "source": [
    "object1.close_connection()"
   ]
  },
  {
   "cell_type": "code",
   "execution_count": 72,
   "id": "be48d01f",
   "metadata": {},
   "outputs": [],
   "source": [
    "object2 = MySQLUtil()"
   ]
  },
  {
   "cell_type": "code",
   "execution_count": 75,
   "id": "3280036f",
   "metadata": {},
   "outputs": [
    {
     "data": {
      "text/plain": [
       "1"
      ]
     },
     "execution_count": 75,
     "metadata": {},
     "output_type": "execute_result"
    }
   ],
   "source": [
    "qry = \"INSERT INTO  `events` (`event_type`,`value`,`time`) VALUES ('4', '3',NOW())\";\n",
    "object2.insert_upd_query(qry)"
   ]
  },
  {
   "cell_type": "code",
   "execution_count": 76,
   "id": "8c6b849f",
   "metadata": {},
   "outputs": [
    {
     "data": {
      "text/plain": [
       "15"
      ]
     },
     "execution_count": 76,
     "metadata": {},
     "output_type": "execute_result"
    }
   ],
   "source": [
    "qry = \"UPDATE `events` SET `event_type`=1,`value`=4,`time`=NOW() WHERE event_type=4\";\n",
    "object2.insert_upd_query(qry)"
   ]
  },
  {
   "cell_type": "code",
   "execution_count": 77,
   "id": "7594c841",
   "metadata": {},
   "outputs": [
    {
     "data": {
      "text/plain": [
       "15"
      ]
     },
     "execution_count": 77,
     "metadata": {},
     "output_type": "execute_result"
    }
   ],
   "source": [
    "qry = \"DELETE FROM  `events` WHERE event_type=1\";\n",
    "object2.insert_upd_query(qry)"
   ]
  },
  {
   "cell_type": "code",
   "execution_count": 78,
   "id": "55b80cd1",
   "metadata": {},
   "outputs": [
    {
     "data": {
      "text/plain": [
       "0"
      ]
     },
     "execution_count": 78,
     "metadata": {},
     "output_type": "execute_result"
    }
   ],
   "source": [
    "qry = \"DELETE FROM  `events` WHERE event_type=1\";\n",
    "object2.insert_upd_query(qry)"
   ]
  },
  {
   "cell_type": "markdown",
   "id": "f964f9f3",
   "metadata": {},
   "source": [
    "### Q5 Create a class for insert, update, and delete in MONGO DB"
   ]
  },
  {
   "cell_type": "code",
   "execution_count": 79,
   "id": "9f52d0c7",
   "metadata": {},
   "outputs": [
    {
     "name": "stdout",
     "output_type": "stream",
     "text": [
      "Database(MongoClient(host=['cluster0-shard-00-01.tmf3i.mongodb.net:27017', 'cluster0-shard-00-00.tmf3i.mongodb.net:27017', 'cluster0-shard-00-02.tmf3i.mongodb.net:27017'], document_class=dict, tz_aware=False, connect=True, retrywrites=True, w='majority', authsource='admin', replicaset='atlas-7cdeo3-shard-0', tls=True), 'test')\n"
     ]
    }
   ],
   "source": [
    "import pymongo\n",
    "import urllib"
   ]
  },
  {
   "cell_type": "code",
   "execution_count": 191,
   "id": "666a4e25",
   "metadata": {},
   "outputs": [],
   "source": [
    "class mongodbUtil:\n",
    "    def __init__(self,dbname):\n",
    "        password = urllib.parse.quote_plus('Test@123')        \n",
    "        self.client = pymongo.MongoClient(\"mongodb+srv://mongodbUser:%s@cluster0.tmf3i.mongodb.net/?retryWrites=true&w=majority\"% (password))\n",
    "        self.db = self.client[dbname]\n",
    "        print(\"connect\")\n",
    "    \n",
    "    def get_collection(self, collection_name):\n",
    "        return self.db[collection_name]\n",
    "    \n",
    "    def insert_one(self,collection_name, data):\n",
    "        new_row = self.db[collection_name].insert_one(data)\n",
    "        created_row = self.db[collection_name].find_one({\"_id\": new_row.inserted_id})\n",
    "        return created_row\n",
    "    \n",
    "    def update_one(self,collection_name, data, id: int):\n",
    "        updateqry = {k: v for k, v in data.items() if v is not None}\n",
    "        print(updateqry)\n",
    "        if len(updateqry) >= 1:\n",
    "            update_result = self.db[collection_name].update_one({\"_id\": id}, {\"$set\": updateqry})\n",
    "            if update_result.modified_count == 0:\n",
    "                return 0\n",
    "\n",
    "        if (\n",
    "            existing_row := self.db[collection_name].find_one({\"_id\": id})\n",
    "        ) is not None:\n",
    "            return existing_row\n",
    "    \n",
    "            \n",
    "        \n",
    "    def delete_one(self,collection_name, id: int):\n",
    "        delete_result = self.db[collection_name].delete_one({\"_id\": id})\n",
    "\n",
    "        if delete_result.deleted_count == 1:\n",
    "            return delete_result\n",
    "\n",
    "        return \"No ID Found\"\n",
    "    \n",
    "    \n",
    "    def shutdown_db_client(self):\n",
    "        self.client.close()"
   ]
  },
  {
   "cell_type": "code",
   "execution_count": 192,
   "id": "da6b719a",
   "metadata": {},
   "outputs": [
    {
     "name": "stdout",
     "output_type": "stream",
     "text": [
      "connect\n"
     ]
    }
   ],
   "source": [
    "obj = mongodbUtil('mydb')"
   ]
  },
  {
   "cell_type": "code",
   "execution_count": 185,
   "id": "5f789376",
   "metadata": {},
   "outputs": [
    {
     "name": "stdout",
     "output_type": "stream",
     "text": [
      "{'_id': ObjectId('63a169bb2fdfad640d98675a'), 'id': 1, 'name': 'saurabh', 'emailid': 'test@test.com', 'product': ['one product', 'two product', 'three product', 'four product']}\n",
      "{'_id': 1, 'id': 2, 'name': 'saurabh1', 'emailid': 'test@test.com', 'product': ['one product', 'two product', 'three product', 'four product'], 'qty': 50}\n",
      "{'_id': 201, 'id': 101, 'name': 'saurabh1', 'emailid': 'test@test.com', 'product': ['one product', 'two product', 'three product', 'four product'], 'qty': 50}\n",
      "{'_id': 202, 'id': 101, 'name': 'saurabh1', 'emailid': 'test@test.com', 'product': ['one product', 'two product', 'three product', 'four product'], 'qty': 50}\n",
      "{'_id': 2011, 'id': 101, 'name': 'saurabh1', 'emailid': 'test@test.com', 'product': ['one product', 'two product', 'three product', 'four product'], 'qty': 50}\n",
      "{'_id': 301, 'id': 301, 'name': 'saurabh1', 'emailid': 'test@test.com', 'product': ['one product', 'two product', 'three product', 'four product'], 'qty': 50}\n",
      "{'_id': 401, 'id': 401, 'name': 'saurabh1', 'emailid': 'test@test.com', 'product': ['one product', 'two product', 'three product', 'four product'], 'qty': 50}\n",
      "{'_id': 501, 'id': 501, 'name': 'saurabh1', 'emailid': 'test@test.com', 'product': ['one product', 'two product', 'three product', 'four product'], 'qty': 50}\n",
      "{'_id': 601, 'id': 701, 'name': 'Gupta', 'emailid': 'gupta@test.com', 'product': ['one 1', 'two 2', 'three 3', 'four 4'], 'qty': 100}\n"
     ]
    }
   ],
   "source": [
    "\n",
    "\n",
    "col1 = obj.get_collection('users_collections')\n",
    "\n",
    "for i in col1.find():\n",
    "    print(i)\n"
   ]
  },
  {
   "cell_type": "code",
   "execution_count": 186,
   "id": "bcbf61a9",
   "metadata": {},
   "outputs": [
    {
     "name": "stdout",
     "output_type": "stream",
     "text": [
      "{'_id': 801, 'id': 801, 'name': 'saurabh1', 'emailid': 'test@test.com', 'product': ['one product', 'two product', 'three product', 'four product'], 'qty': 50}\n"
     ]
    }
   ],
   "source": [
    "dict1 = {\n",
    "    \"_id\":801,\n",
    "    \"id\":801,\n",
    "    \"name\":\"saurabh1\",\n",
    "    \"emailid\":\"test@test.com\",\n",
    "    \"product\":[\"one product\",\"two product\",\"three product\",\"four product\"],\n",
    "    \"qty\": 50\n",
    "}\n",
    "\n",
    "newrow = obj.insert_one('users_collections',dict1)\n",
    "print(newrow)"
   ]
  },
  {
   "cell_type": "code",
   "execution_count": 188,
   "id": "775c0944",
   "metadata": {},
   "outputs": [
    {
     "name": "stdout",
     "output_type": "stream",
     "text": [
      "{'id': 901, 'name': 'Gupta', 'emailid': 'gupta@test.com', 'product': ['one 1', 'two 2', 'three 3', 'four 4'], 'qty': 100}\n",
      "0\n"
     ]
    }
   ],
   "source": [
    "dict1 = {\n",
    "    \"id\":901,\n",
    "    \"name\":\"Gupta\",\n",
    "    \"emailid\":\"gupta@test.com\",\n",
    "    \"product\":[\"one 1\",\"two 2\",\"three 3\",\"four 4\"],\n",
    "    \"qty\": 100\n",
    "}\n",
    "\n",
    "newrow = obj.update_one('users_collections',dict1, 801)\n",
    "print(newrow)"
   ]
  },
  {
   "cell_type": "code",
   "execution_count": 193,
   "id": "f369f419",
   "metadata": {},
   "outputs": [
    {
     "name": "stdout",
     "output_type": "stream",
     "text": [
      "<pymongo.results.DeleteResult object at 0x000002AD465C69A0>\n"
     ]
    }
   ],
   "source": [
    "delresult = obj.delete_one('users_collections',202)\n",
    "print(delresult)"
   ]
  },
  {
   "cell_type": "code",
   "execution_count": null,
   "id": "cabd1ebe",
   "metadata": {},
   "outputs": [],
   "source": []
  },
  {
   "cell_type": "code",
   "execution_count": null,
   "id": "436d3385",
   "metadata": {},
   "outputs": [],
   "source": []
  },
  {
   "cell_type": "code",
   "execution_count": null,
   "id": "50d8a049",
   "metadata": {},
   "outputs": [],
   "source": []
  },
  {
   "cell_type": "code",
   "execution_count": null,
   "id": "a718134b",
   "metadata": {},
   "outputs": [],
   "source": []
  },
  {
   "cell_type": "code",
   "execution_count": null,
   "id": "114ccac7",
   "metadata": {},
   "outputs": [],
   "source": []
  },
  {
   "cell_type": "code",
   "execution_count": null,
   "id": "dfc1db46",
   "metadata": {},
   "outputs": [],
   "source": []
  }
 ],
 "metadata": {
  "kernelspec": {
   "display_name": "Python 3 (ipykernel)",
   "language": "python",
   "name": "python3"
  },
  "language_info": {
   "codemirror_mode": {
    "name": "ipython",
    "version": 3
   },
   "file_extension": ".py",
   "mimetype": "text/x-python",
   "name": "python",
   "nbconvert_exporter": "python",
   "pygments_lexer": "ipython3",
   "version": "3.9.7"
  }
 },
 "nbformat": 4,
 "nbformat_minor": 5
}
