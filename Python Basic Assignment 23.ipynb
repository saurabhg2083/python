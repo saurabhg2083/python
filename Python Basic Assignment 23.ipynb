{
 "cells": [
  {
   "cell_type": "markdown",
   "id": "8c6e62d5",
   "metadata": {},
   "source": [
    "# Python Basic Assignment 23"
   ]
  },
  {
   "cell_type": "markdown",
   "id": "a62b7281",
   "metadata": {},
   "source": [
    "###1. What is the result of the code, and why?\n"
   ]
  },
  {
   "cell_type": "code",
   "execution_count": 1,
   "id": "40d645fe",
   "metadata": {},
   "outputs": [
    {
     "name": "stdout",
     "output_type": "stream",
     "text": [
      "1 2 8\n"
     ]
    }
   ],
   "source": [
    "def func(a, b=6, c=8):\n",
    "    print(a, b, c)\n",
    "func(1, 2)\n",
    "\n",
    "#This funtion is taking a positional argument and 2 keyward argument. \n",
    "# When function call parameter passed are a=1,b=2. \n",
    "#When the function is executed , parameter c=8 will be taken by default as its a keyword argument."
   ]
  },
  {
   "cell_type": "markdown",
   "id": "17ce5173",
   "metadata": {},
   "source": [
    "### 2. What is the result of this code, and why?\n"
   ]
  },
  {
   "cell_type": "code",
   "execution_count": 3,
   "id": "412149e6",
   "metadata": {},
   "outputs": [
    {
     "name": "stdout",
     "output_type": "stream",
     "text": [
      "1 2 3\n"
     ]
    }
   ],
   "source": [
    "\n",
    "def func(a, b, c=5):\n",
    "    print(a, b, c)\n",
    "func(1, c=3, b=2)\n",
    "\n",
    "# When we make function call, order will be positional argument and then keywords arguments. \n",
    "# we can pass the keyword arguments in any order as we want.\n"
   ]
  },
  {
   "cell_type": "markdown",
   "id": "4bec615b",
   "metadata": {},
   "source": [
    "### 3. How about this code: what is its result, and why?\n"
   ]
  },
  {
   "cell_type": "code",
   "execution_count": 4,
   "id": "a1299a43",
   "metadata": {},
   "outputs": [
    {
     "name": "stdout",
     "output_type": "stream",
     "text": [
      "1 (2, 3)\n"
     ]
    }
   ],
   "source": [
    "def func(a, *pargs):\n",
    "    print(a, pargs)\n",
    "func(1, 2, 3)\n",
    "\n",
    "#The return type of *args parameter is tuple, where as **kargs will be dictionary\n"
   ]
  },
  {
   "cell_type": "markdown",
   "id": "15acb535",
   "metadata": {},
   "source": [
    "### 4. What does this code print, and why?\n"
   ]
  },
  {
   "cell_type": "code",
   "execution_count": 6,
   "id": "84925cd0",
   "metadata": {},
   "outputs": [
    {
     "name": "stdout",
     "output_type": "stream",
     "text": [
      "1 {'c': 3, 'b': 2}\n"
     ]
    }
   ],
   "source": [
    "def func(a, **kargs):\n",
    "    print(a, kargs)\n",
    "func(a=1, c=3, b=2)\n",
    "\n",
    "# The return type of  **kargs is  dictionary\n"
   ]
  },
  {
   "cell_type": "markdown",
   "id": "71f2fb56",
   "metadata": {},
   "source": [
    "### 5. What gets printed by this, and explain?\n"
   ]
  },
  {
   "cell_type": "code",
   "execution_count": 10,
   "id": "eaf41c8a",
   "metadata": {},
   "outputs": [
    {
     "name": "stdout",
     "output_type": "stream",
     "text": [
      "1 5 6 5\n"
     ]
    }
   ],
   "source": [
    "def func(a, b, c=8, d=5): \n",
    "    print(a, b, c, d)\n",
    "func(1, *(5, 6))\n",
    "\n",
    "# '*' is the unpacking operator and that unpack the values from iterable objects in Python. \n",
    "# The single asterisk operator * can be used on any iterable that Python provides, \n",
    "# while the double asterisk operator ** can only be used on dictionaries. \n",
    "\n",
    "# In the example the value *(5,6) will be unpacked and will be assigned to b and c and  \n",
    "# passed as arguments, d =5 will taken by defaults are keyword arguments.\n"
   ]
  },
  {
   "cell_type": "markdown",
   "id": "bf0a1284",
   "metadata": {},
   "source": [
    "\n",
    "### 6. what is the result of this, and explain?\n"
   ]
  },
  {
   "cell_type": "code",
   "execution_count": 12,
   "id": "7d9e2c3c",
   "metadata": {},
   "outputs": [
    {
     "data": {
      "text/plain": [
       "(1, ['x'], {'a': 'y'})"
      ]
     },
     "execution_count": 12,
     "metadata": {},
     "output_type": "execute_result"
    }
   ],
   "source": [
    "\n",
    "def func(a, b, c): \n",
    "    a = 2; b[0] = 'x'; c['a'] = 'y'\n",
    "    \n",
    "l=1; m=[1]; n={'a':0}\n",
    "func(l, m, n)\n",
    "\n",
    "l, m, n\n",
    "\n",
    "# list and dict are passed as argument and these are mutable.\n"
   ]
  },
  {
   "cell_type": "code",
   "execution_count": null,
   "id": "61b18b6a",
   "metadata": {},
   "outputs": [],
   "source": []
  }
 ],
 "metadata": {
  "kernelspec": {
   "display_name": "Python 3 (ipykernel)",
   "language": "python",
   "name": "python3"
  },
  "language_info": {
   "codemirror_mode": {
    "name": "ipython",
    "version": 3
   },
   "file_extension": ".py",
   "mimetype": "text/x-python",
   "name": "python",
   "nbconvert_exporter": "python",
   "pygments_lexer": "ipython3",
   "version": "3.9.7"
  }
 },
 "nbformat": 4,
 "nbformat_minor": 5
}
