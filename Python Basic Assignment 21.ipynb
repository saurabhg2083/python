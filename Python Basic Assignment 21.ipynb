{
 "cells": [
  {
   "cell_type": "markdown",
   "id": "0e9dd7f3",
   "metadata": {},
   "source": [
    "# Python Basic Assignment 21"
   ]
  },
  {
   "cell_type": "markdown",
   "id": "328bf055",
   "metadata": {},
   "source": [
    "### 1.\tAdd the current date to the text file today.txt as a string.\n",
    "\n"
   ]
  },
  {
   "cell_type": "code",
   "execution_count": 1,
   "id": "b37d271e",
   "metadata": {},
   "outputs": [
    {
     "data": {
      "text/plain": [
       "'2022-12-09'"
      ]
     },
     "execution_count": 1,
     "metadata": {},
     "output_type": "execute_result"
    }
   ],
   "source": [
    "import datetime\n",
    "from datetime import date\n",
    "now = date.today()\n",
    "cur_date = now.isoformat()\n",
    "cur_date"
   ]
  },
  {
   "cell_type": "code",
   "execution_count": 2,
   "id": "e825fa93",
   "metadata": {},
   "outputs": [],
   "source": [
    "with open('today.txt','w') as file:\n",
    "    file.write(cur_date)"
   ]
  },
  {
   "cell_type": "markdown",
   "id": "61167d52",
   "metadata": {},
   "source": [
    "### 2.\tRead the text file today.txt into the string today_string\n"
   ]
  },
  {
   "cell_type": "code",
   "execution_count": 3,
   "id": "3e0f44b1",
   "metadata": {},
   "outputs": [
    {
     "data": {
      "text/plain": [
       "'2022-12-09'"
      ]
     },
     "execution_count": 3,
     "metadata": {},
     "output_type": "execute_result"
    }
   ],
   "source": [
    "with open('today.txt','r') as file:\n",
    "    today_string = file.read()\n",
    "today_string"
   ]
  },
  {
   "cell_type": "markdown",
   "id": "09dc86c2",
   "metadata": {},
   "source": [
    "### 3.\tParse the date from today_string.\n"
   ]
  },
  {
   "cell_type": "code",
   "execution_count": 5,
   "id": "280dc087",
   "metadata": {},
   "outputs": [
    {
     "data": {
      "text/plain": [
       "datetime.datetime(2022, 12, 9, 0, 0)"
      ]
     },
     "execution_count": 5,
     "metadata": {},
     "output_type": "execute_result"
    }
   ],
   "source": [
    "from datetime import datetime\n",
    "format = '%Y-%m-%d'\n",
    "datetime.strptime(today_string,format)"
   ]
  },
  {
   "cell_type": "markdown",
   "id": "37cb0126",
   "metadata": {},
   "source": [
    "### 4.\tList the files in your current directory\n"
   ]
  },
  {
   "cell_type": "code",
   "execution_count": 6,
   "id": "2782a836",
   "metadata": {},
   "outputs": [
    {
     "data": {
      "text/plain": [
       "['.ipynb_checkpoints',\n",
       " 'abc.jpg',\n",
       " 'assignment',\n",
       " 'automobile.csv',\n",
       " 'books.csv',\n",
       " 'books.db',\n",
       " 'crop_abc2.png',\n",
       " 'hellothere.docx',\n",
       " 'part 1 solutions.ipynb',\n",
       " 'part 2 solutions.ipynb',\n",
       " 'Python Basic Assignment 1.ipynb',\n",
       " 'Python Basic Assignment 10.ipynb',\n",
       " 'Python Basic Assignment 11.ipynb',\n",
       " 'Python Basic Assignment 12.ipynb',\n",
       " 'Python Basic Assignment 13.ipynb',\n",
       " 'Python Basic Assignment 14.ipynb',\n",
       " 'Python Basic Assignment 15.ipynb',\n",
       " 'Python Basic Assignment 16.ipynb',\n",
       " 'Python Basic Assignment 17.ipynb',\n",
       " 'Python Basic Assignment 18.ipynb',\n",
       " 'Python Basic Assignment 19.ipynb',\n",
       " 'Python Basic Assignment 2.ipynb',\n",
       " 'Python Basic Assignment 20.ipynb',\n",
       " 'Python Basic Assignment 21.ipynb',\n",
       " 'Python Basic Assignment 22.ipynb',\n",
       " 'Python Basic Assignment 23.ipynb',\n",
       " 'Python Basic Assignment 24.ipynb',\n",
       " 'Python Basic Assignment 25.ipynb',\n",
       " 'Python Basic Assignment 3.ipynb',\n",
       " 'Python Basic Assignment 4.ipynb',\n",
       " 'Python Basic Assignment 5.ipynb',\n",
       " 'Python Basic Assignment 6.ipynb',\n",
       " 'Python Basic Assignment 7.ipynb',\n",
       " 'Python Basic Assignment 8.ipynb',\n",
       " 'Python Basic Assignment 9.ipynb',\n",
       " 'Python Programming Assignment 1.ipynb',\n",
       " 'Python Programming Assignment 10.ipynb',\n",
       " 'Python Programming Assignment 12.ipynb',\n",
       " 'Python Programming Assignment 13.ipynb',\n",
       " 'Python Programming Assignment 14.ipynb',\n",
       " 'Python Programming Assignment 15.ipynb',\n",
       " 'Python Programming Assignment 16.ipynb',\n",
       " 'Python Programming Assignment 17.ipynb',\n",
       " 'Python Programming Assignment 18.ipynb',\n",
       " 'Python Programming Assignment 19.ipynb',\n",
       " 'Python Programming Assignment 2.ipynb',\n",
       " 'Python Programming Assignment 20.ipynb',\n",
       " 'Python Programming Assignment 21.ipynb',\n",
       " 'Python Programming Assignment 22.ipynb',\n",
       " 'Python Programming Assignment 23.ipynb',\n",
       " 'Python Programming Assignment 24.ipynb',\n",
       " 'Python Programming Assignment 25.ipynb',\n",
       " 'Python Programming Assignment 3.ipynb',\n",
       " 'Python Programming Assignment 4.ipynb',\n",
       " 'Python Programming Assignment 5.ipynb',\n",
       " 'Python Programming Assignment 6.ipynb',\n",
       " 'Python Programming Assignment 7.ipynb',\n",
       " 'Python Programming Assignment 8.ipynb',\n",
       " 'Python Programming Assignment 9.ipynb',\n",
       " 'questions.ipynb',\n",
       " 'saurabh.docx',\n",
       " 'StatisticsGuide.pdf',\n",
       " 'task questions part 2.ipynb',\n",
       " 'test.txt',\n",
       " 'testnew.txt',\n",
       " 'today.txt',\n",
       " 'txt',\n",
       " 'Untitled.ipynb',\n",
       " 'Untitled1.ipynb',\n",
       " 'zoo.py',\n",
       " '__pycache__']"
      ]
     },
     "execution_count": 6,
     "metadata": {},
     "output_type": "execute_result"
    }
   ],
   "source": [
    "import os\n",
    "os.listdir('.')"
   ]
  },
  {
   "cell_type": "markdown",
   "id": "254dba88",
   "metadata": {},
   "source": [
    "### 5.\tCreate a list of all of the files in your parent directory (minimum five files should be available).\n"
   ]
  },
  {
   "cell_type": "code",
   "execution_count": 9,
   "id": "d3ca441b",
   "metadata": {},
   "outputs": [
    {
     "data": {
      "text/plain": [
       "['.ipynb_checkpoints',\n",
       " 'python',\n",
       " 'StatisticsGuide.pdf',\n",
       " 'test.txt',\n",
       " 'testnew.txt',\n",
       " 'today.txt']"
      ]
     },
     "execution_count": 9,
     "metadata": {},
     "output_type": "execute_result"
    }
   ],
   "source": [
    "import os\n",
    "os.listdir('..')"
   ]
  },
  {
   "cell_type": "markdown",
   "id": "a09b8ac3",
   "metadata": {},
   "source": [
    "### 6.\tUse multiprocessing to create three separate processes. Make each one wait a random number of seconds between one and five, print the current time, and then exit.\n"
   ]
  },
  {
   "cell_type": "raw",
   "id": "2c48b11a",
   "metadata": {},
   "source": [
    "    import multiprocessing\n",
    "    import time\n",
    "    import sys\n",
    "    from datetime import datetime\n",
    "    from time import sleep\n",
    "    import random\n",
    "\n",
    "    def printsec(seconds):\n",
    "        sleep(seconds)\n",
    "        print('wait', seconds, 'seconds, time is', datetime.utcnow())\n",
    "\n",
    "    if __name__ == '__main__':\n",
    "        for n in range(3):\n",
    "            seconds = random.random()\n",
    "            proc = multiprocessing.Process(target=printsec, args=(seconds,))\n",
    "            proc.start()"
   ]
  },
  {
   "cell_type": "code",
   "execution_count": 21,
   "id": "4781b956",
   "metadata": {},
   "outputs": [
    {
     "name": "stdout",
     "output_type": "stream",
     "text": [
      "wait 0.4836413205476172 seconds, time is 2022-12-09 09:04:23.922854\n",
      "wait 0.5535703359763926 seconds, time is 2022-12-09 09:04:23.985331\n",
      "wait 0.6116368553007246 seconds, time is 2022-12-09 09:04:24.054408\n"
     ]
    }
   ],
   "source": [
    "!python myfile.py"
   ]
  },
  {
   "cell_type": "markdown",
   "id": "79186b12",
   "metadata": {},
   "source": [
    "### 7.\tCreate a date object of your day of birth.\n"
   ]
  },
  {
   "cell_type": "code",
   "execution_count": 23,
   "id": "8a5424ef",
   "metadata": {},
   "outputs": [
    {
     "data": {
      "text/plain": [
       "datetime.date(1983, 10, 20)"
      ]
     },
     "execution_count": 23,
     "metadata": {},
     "output_type": "execute_result"
    }
   ],
   "source": [
    "my_dob = date(1983,10,20)\n",
    "my_dob"
   ]
  },
  {
   "cell_type": "markdown",
   "id": "468af870",
   "metadata": {},
   "source": [
    "### 8.\tWhat day of the week was your day of birth?\n"
   ]
  },
  {
   "cell_type": "code",
   "execution_count": 24,
   "id": "a091afdb",
   "metadata": {},
   "outputs": [
    {
     "data": {
      "text/plain": [
       "3"
      ]
     },
     "execution_count": 24,
     "metadata": {},
     "output_type": "execute_result"
    }
   ],
   "source": [
    "my_dob.weekday()"
   ]
  },
  {
   "cell_type": "markdown",
   "id": "97c6cb63",
   "metadata": {},
   "source": [
    "### 9.\tWhen will you be (or when were you) 10,000 days old?"
   ]
  },
  {
   "cell_type": "code",
   "execution_count": 25,
   "id": "ec0c04d5",
   "metadata": {},
   "outputs": [
    {
     "data": {
      "text/plain": [
       "datetime.date(2011, 3, 7)"
      ]
     },
     "execution_count": 25,
     "metadata": {},
     "output_type": "execute_result"
    }
   ],
   "source": [
    "from datetime import timedelta\n",
    "day10000 = my_dob + timedelta(days=10000)\n",
    "day10000"
   ]
  },
  {
   "cell_type": "code",
   "execution_count": null,
   "id": "8a66c3ae",
   "metadata": {},
   "outputs": [],
   "source": []
  }
 ],
 "metadata": {
  "kernelspec": {
   "display_name": "Python 3 (ipykernel)",
   "language": "python",
   "name": "python3"
  },
  "language_info": {
   "codemirror_mode": {
    "name": "ipython",
    "version": 3
   },
   "file_extension": ".py",
   "mimetype": "text/x-python",
   "name": "python",
   "nbconvert_exporter": "python",
   "pygments_lexer": "ipython3",
   "version": "3.9.7"
  }
 },
 "nbformat": 4,
 "nbformat_minor": 5
}
