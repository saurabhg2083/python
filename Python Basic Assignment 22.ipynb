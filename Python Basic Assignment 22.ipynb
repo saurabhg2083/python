{
 "cells": [
  {
   "cell_type": "markdown",
   "id": "bbb8889c",
   "metadata": {},
   "source": [
    "# Python Basic Assignment 22"
   ]
  },
  {
   "cell_type": "markdown",
   "id": "49e46785",
   "metadata": {},
   "source": [
    "### 1. What is the result of the code, and explain?\n"
   ]
  },
  {
   "cell_type": "code",
   "execution_count": 2,
   "id": "1a261c54",
   "metadata": {},
   "outputs": [
    {
     "name": "stdout",
     "output_type": "stream",
     "text": [
      "iNeuron\n"
     ]
    }
   ],
   "source": [
    "X = 'iNeuron'\n",
    "def func():\n",
    "    print(X)\n",
    "func()\n",
    "#The global variables are accessible in side the functions in python."
   ]
  },
  {
   "cell_type": "markdown",
   "id": "1854968e",
   "metadata": {},
   "source": [
    "### 2. What is the result of the code, and explain?"
   ]
  },
  {
   "cell_type": "code",
   "execution_count": 8,
   "id": "3462eef9",
   "metadata": {},
   "outputs": [
    {
     "name": "stdout",
     "output_type": "stream",
     "text": [
      "iNeuron\n"
     ]
    }
   ],
   "source": [
    "X = 'iNeuron'\n",
    "def func():\n",
    "    X = 'NI'\n",
    "\n",
    "func()\n",
    "print(X)\n",
    "\n",
    "#The global variables are access in side the functions in python. \n",
    "#But we can not access function variable out side function."
   ]
  },
  {
   "cell_type": "markdown",
   "id": "dfb82de1",
   "metadata": {},
   "source": [
    "\n",
    "### 3. What does this code print, and why?\n"
   ]
  },
  {
   "cell_type": "code",
   "execution_count": 9,
   "id": "91d0e13b",
   "metadata": {},
   "outputs": [
    {
     "name": "stdout",
     "output_type": "stream",
     "text": [
      "NI\n",
      "iNeuron\n"
     ]
    }
   ],
   "source": [
    "X = 'iNeuron'\n",
    "def func():\n",
    "    X = 'NI'\n",
    "    print(X)\n",
    "\n",
    "func()\n",
    "print(X)\n",
    "\n",
    "#The global variables are access in side the functions in python. \n",
    "#But we can not access function variable out side function."
   ]
  },
  {
   "cell_type": "markdown",
   "id": "adeb372e",
   "metadata": {},
   "source": [
    "### 4. What output does this code produce? Why?\n"
   ]
  },
  {
   "cell_type": "code",
   "execution_count": 10,
   "id": "a05067a2",
   "metadata": {},
   "outputs": [
    {
     "name": "stdout",
     "output_type": "stream",
     "text": [
      "NI!\n"
     ]
    }
   ],
   "source": [
    "X = 'iNeuron'\n",
    "def func():\n",
    "    global X\n",
    "    X = 'NI!'   \n",
    "\n",
    "func()\n",
    "print(X)\n",
    "#As X is made Global inside the function. So, it will be accesible out side of the function too. "
   ]
  },
  {
   "cell_type": "markdown",
   "id": "730de693",
   "metadata": {},
   "source": [
    "### 5. What about this code—what’s the output, and why?"
   ]
  },
  {
   "cell_type": "code",
   "execution_count": 11,
   "id": "9b814f12",
   "metadata": {},
   "outputs": [
    {
     "name": "stdout",
     "output_type": "stream",
     "text": [
      "iNeuron\n"
     ]
    },
    {
     "data": {
      "text/plain": [
       "'iNeuron'"
      ]
     },
     "execution_count": 11,
     "metadata": {},
     "output_type": "execute_result"
    }
   ],
   "source": [
    "X = 'iNeuron'\n",
    "def func():\n",
    "    X = 'NI'\n",
    "def nested():\n",
    "    print(X)\n",
    "    \n",
    "nested()\n",
    "func()\n",
    "X\n",
    "\n",
    "# nested() function will print 'iNeuron', Then func() does not display anything,\n",
    "# and x ='NI' is not accessible outside the function."
   ]
  },
  {
   "cell_type": "markdown",
   "id": "be780e55",
   "metadata": {},
   "source": [
    "\n",
    "### 6. How about this code: what is its output in Python 3, and explain?\n"
   ]
  },
  {
   "cell_type": "code",
   "execution_count": 13,
   "id": "b3921c75",
   "metadata": {},
   "outputs": [
    {
     "name": "stdout",
     "output_type": "stream",
     "text": [
      "spam\n"
     ]
    }
   ],
   "source": [
    "def func():\n",
    "    X = 'NI'\n",
    "    def nested():\n",
    "        nonlocal X\n",
    "        X = 'spam'\n",
    "    nested()\n",
    "    print(X)\n",
    "\n",
    "func()\n",
    "\n",
    "#Nonlocal variables are used in nested functions whose local scope is not defined. \n",
    "#This means that the variable can be neither in the local nor the global scope. \n",
    "#it print the updated value from nested function\n"
   ]
  },
  {
   "cell_type": "code",
   "execution_count": null,
   "id": "408b2f2d",
   "metadata": {},
   "outputs": [],
   "source": []
  }
 ],
 "metadata": {
  "kernelspec": {
   "display_name": "Python 3 (ipykernel)",
   "language": "python",
   "name": "python3"
  },
  "language_info": {
   "codemirror_mode": {
    "name": "ipython",
    "version": 3
   },
   "file_extension": ".py",
   "mimetype": "text/x-python",
   "name": "python",
   "nbconvert_exporter": "python",
   "pygments_lexer": "ipython3",
   "version": "3.9.7"
  }
 },
 "nbformat": 4,
 "nbformat_minor": 5
}
